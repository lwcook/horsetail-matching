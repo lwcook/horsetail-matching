{
 "cells": [
  {
   "cell_type": "markdown",
   "metadata": {},
   "source": [
    "When we cannot afford to sample the quantity of interest many times at every design within an optimization, we can use surrogate models instead. Here we will show you how to use the simple polynomial surrogates provided with python, as well as third party surrogates.\n",
    "\n",
    "Firstly using the effective-quadratures package [Seshadri, P. and Parks, G. (2017) Effective-Quadratures (EQ): Polynomials for Computational Engineering Studies. The Open Journal. http://dx.doi.org/10.21105/joss.0016], (also see http://www.effective-quadratures.org/). \n",
    "\n",
    "Secondly using pyKriging [pyKriging 0.5281/zenodo.593877] (also see http://pykriging.com/).\n",
    "\n",
    "To begin with we'll use the polynomial surrogate that comes with horsetail matching. "
   ]
  },
  {
   "cell_type": "code",
   "execution_count": 6,
   "metadata": {},
   "outputs": [],
   "source": [
    "from horsetailmatching import HorsetailMatching, UncertainParameter\n",
    "from horsetailmatching.demoproblems import TP1, TP2\n",
    "from horsetailmatching.surrogates import polySurrogate"
   ]
  },
  {
   "cell_type": "markdown",
   "metadata": {},
   "source": [
    "The polySurrogate function takes a numpy array of input values of size (num_samples, num_input_dimensions), and a array of output values of size (num_samples). It returns a function that will return a predicted output value at any input value. Using this with horsetail matching is then as simple as passing this function to the surrogate argument:"
   ]
  },
  {
   "cell_type": "code",
   "execution_count": 9,
   "metadata": {},
   "outputs": [
    {
     "name": "stdout",
     "output_type": "stream",
     "text": [
      "21.2731701322\n"
     ]
    }
   ],
   "source": [
    "uparams = [UncertainParameter('uniform'), UncertainParameter('gaussian')]\n",
    "theHM = HorsetailMatching(TP1, uparams, surrogate=polySurrogate)\n",
    "\n",
    "print(theHM.evalMetric([0, 1]))"
   ]
  },
  {
   "cell_type": "markdown",
   "metadata": {},
   "source": [
    "As with everything in horsetail matching, if this is all we do then it will do its best to automatically decide the rest. In this case the other key thing we need is the values of the uncertain parameters at which to evaluate the true qoi to give the values the surrogate model is fitted to. "
   ]
  },
  {
   "cell_type": "code",
   "execution_count": null,
   "metadata": {
    "collapsed": true
   },
   "outputs": [],
   "source": []
  }
 ],
 "metadata": {
  "kernelspec": {
   "display_name": "Python 2",
   "language": "python",
   "name": "python2"
  },
  "language_info": {
   "codemirror_mode": {
    "name": "ipython",
    "version": 2
   },
   "file_extension": ".py",
   "mimetype": "text/x-python",
   "name": "python",
   "nbconvert_exporter": "python",
   "pygments_lexer": "ipython2",
   "version": "2.7.6"
  }
 },
 "nbformat": 4,
 "nbformat_minor": 2
}
