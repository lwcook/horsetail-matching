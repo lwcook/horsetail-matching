{
 "cells": [
  {
   "cell_type": "markdown",
   "metadata": {},
   "source": [
    "When we cannot afford to sample the quantity of interest many times at every design within an optimization, we can use surrogate models instead. Here we will show you how to use third party surrogates as well as the polynomial chaos surrogate provided with horsetail matching.\n",
    "\n",
    "We will use the effective-quadratures package [Seshadri, P. and Parks, G. (2017) Effective-Quadratures (EQ): Polynomials for Computational Engineering Studies, The Open Journal, http://dx.doi.org/10.21105/joss.0016], (also see http://www.effective-quadratures.org/). We will also use pyKriging [pyKriging 0.5281/zenodo.593877] (also see http://pykriging.com/).\n",
    "\n",
    "The HorstailMaching object takes a \"surrogate\" argument, which should be a function that takes an array of values of the uncertain parameters of size (num_points, num_uncertainties), and an array of the quantity of interest evaluated at these values of size (num_points) that returns a function that predicts the function output at any value of the uncertainties. The following examples should make this more clear.\n",
    "\n",
    "Let's start with pyKriging..."
   ]
  },
  {
   "cell_type": "code",
   "execution_count": 1,
   "metadata": {},
   "outputs": [],
   "source": [
    "from horsetailmatching import HorsetailMatching, UncertainParameter\n",
    "from horsetailmatching.demoproblems import TP1, TP2\n"
   ]
  },
  {
   "cell_type": "markdown",
   "metadata": {},
   "source": [
    "We use the pyKriging samplingplan function to give us 20 points found via latin hypercube sampling at which to evaluate the metric to create the surrogate. Then we create a function in the form required by horsetail matching called mySurrogate, and pass this as the surrogate argument when making the horestail matching object, along with the LHS points as the u_quadrature_points argument. "
   ]
  },
  {
   "cell_type": "code",
   "execution_count": 20,
   "metadata": {},
   "outputs": [
    {
     "name": "stdout",
     "output_type": "stream",
     "text": [
      "('Metric evaluated with kriging surrogate: ', 15.508547313523406)\n",
      "('Metric evaluated with direct sampling: ', 15.592935162751704)\n"
     ]
    }
   ],
   "source": [
    "from pyKriging.krige import kriging\n",
    "from pyKriging.samplingplan import samplingplan\n",
    "\n",
    "uparams = [UncertainParameter('uniform'), UncertainParameter('uniform')]\n",
    "\n",
    "sp = samplingplan(2)\n",
    "u_sampling = sp.optimallhc(25)\n",
    "\n",
    "def mySurrogate(u_lhc, q_lhc):\n",
    "    krig = kriging(u_lhc, q_lhc)\n",
    "    krig.train()\n",
    "    return krig.predict\n",
    "\n",
    "theHM = HorsetailMatching(TP1, uparams, surrogate=mySurrogate, u_quadrature_points=u_sampling)\n",
    "print('Metric evaluated with kriging surrogate: ', theHM.evalMetric([0, 1]))\n",
    "theHM.surrogate = None\n",
    "print('Metric evaluated with direct sampling: ', theHM.evalMetric([0, 1]))"
   ]
  },
  {
   "cell_type": "markdown",
   "metadata": {},
   "source": [
    "Now we do a similar thing with the effective quadrature toolbox to make a quadratic polynomial surrogate. \n",
    "\n"
   ]
  },
  {
   "cell_type": "code",
   "execution_count": 27,
   "metadata": {
    "scrolled": true
   },
   "outputs": [
    {
     "name": "stdout",
     "output_type": "stream",
     "text": [
      "('Metric evaluated with quadratic surrogate: ', 15.785982279490263)\n",
      "('Metric evaluated with direct sampling: ', 15.699129346365819)\n"
     ]
    }
   ],
   "source": [
    "from equadratures import Polyreg\n",
    "import numpy as np\n",
    "\n",
    "uparams = [UncertainParameter('uniform'), UncertainParameter('uniform')]\n",
    "\n",
    "U1, U2 = np.meshgrid(np.linspace(-1, 1, 5), np.linspace(-1, 1, 5))\n",
    "u_tensor = np.vstack([U1.flatten(), U2.flatten()]).T\n",
    "\n",
    "def mySurrogate(u_tensor, q_tensor):\n",
    "    poly = Polyreg(np.mat(u_tensor), np.mat(q_tensor).T, 'quadratic')\n",
    "    def model(u):\n",
    "        return poly.testPolynomial(np.mat(u))\n",
    "    return model\n",
    "\n",
    "theHM = HorsetailMatching(TP1, uparams, surrogate=mySurrogate, u_quadrature_points=u_tensor)\n",
    "print('Metric evaluated with quadratic surrogate: ', theHM.evalMetric([0, 1]))\n",
    "theHM.surrogate = None\n",
    "print('Metric evaluated with direct sampling: ', theHM.evalMetric([0, 1]))"
   ]
  },
  {
   "cell_type": "markdown",
   "metadata": {},
   "source": [
    "The polynomial chaos expansion used by the PolySurrogate class uses specific quadrature points over the uncertainty space to perform efficient integration, and so we must tell the HorsetailMatching object that these are the points at which to evaluate the quantity of interest when making the surrogate. This is done with he u_quadrature_points argument. "
   ]
  },
  {
   "cell_type": "code",
   "execution_count": 29,
   "metadata": {},
   "outputs": [
    {
     "name": "stdout",
     "output_type": "stream",
     "text": [
      "('Metric evaluated with polynomial surrogate: ', 15.712823802162529)\n",
      "('Metric evaluated with direct sampling: ', 15.730374743597023)\n"
     ]
    }
   ],
   "source": [
    "from horsetailmatching.surrogates import PolySurrogate\n",
    "\n",
    "uparams = [UncertainParameter('uniform'), UncertainParameter('uniform')]\n",
    "\n",
    "thePoly = PolySurrogate(dimensions=len(uparams), order=4)\n",
    "u_quadrature = thePoly.getQuadraturePoints()\n",
    "\n",
    "def mySurrogate(u_quad, q_quad):\n",
    "    thePoly.train(q_quad)\n",
    "    return thePoly.predict\n",
    "\n",
    "theHM = HorsetailMatching(TP1, uparams, surrogate=mySurrogate, u_quadrature_points=u_quadrature)\n",
    "print('Metric evaluated with polynomial surrogate: ', theHM.evalMetric([0, 1]))\n",
    "theHM.surrogate = None\n",
    "print('Metric evaluated with direct sampling: ', theHM.evalMetric([0, 1]))"
   ]
  },
  {
   "cell_type": "markdown",
   "metadata": {},
   "source": []
  },
  {
   "cell_type": "code",
   "execution_count": null,
   "metadata": {
    "collapsed": true
   },
   "outputs": [],
   "source": []
  }
 ],
 "metadata": {
  "kernelspec": {
   "display_name": "Python 2",
   "language": "python",
   "name": "python2"
  },
  "language_info": {
   "codemirror_mode": {
    "name": "ipython",
    "version": 2
   },
   "file_extension": ".py",
   "mimetype": "text/x-python",
   "name": "python",
   "nbconvert_exporter": "python",
   "pygments_lexer": "ipython2",
   "version": "2.7.6"
  }
 },
 "nbformat": 4,
 "nbformat_minor": 2
}
