{
 "cells": [
  {
   "cell_type": "markdown",
   "metadata": {},
   "source": [
    "When we cannot afford to sample the quantity of interest many times at every design within an optimization, we can use surrogate models instead. Here we will show you how to use third party surrogates as well as the polynomial chaos surrogate provided with horsetail matching.\n",
    "\n",
    "For the third party surrogates, we will use the effective-quadratures package [Seshadri, P. and Parks, G. (2017) Effective-Quadratures (EQ): Polynomials for Computational Engineering Studies, The Open Journal, http://dx.doi.org/10.21105/joss.0016], (also see http://www.effective-quadratures.org/). We will also use pyKriging [pyKriging 0.5281/zenodo.593877] (also see http://pykriging.com/).\n",
    "\n",
    "The HorstailMaching object can take a \"surrogate\" argument, which should be a function that takes an np.ndarray of values of the uncertain parameters of size (num_points, num_uncertainties), and a np.ndarray of the quantity of interest evaluated at these values of size (num_points) that returns a function that predicts the function output at any value of the uncertainties. num_points is the number of points at which the surrogate is to be evaluated, and num_uncertainties is the number of uncertain parameters. The object also takes a \"surrogate_points\" argument, which is a list of points (values of u) at which horsetail matching calls the qoi function in order to fit the surrogate.\n",
    "\n",
    "The following examples should make this more clear."
   ]
  },
  {
   "cell_type": "code",
   "execution_count": 1,
   "metadata": {
    "collapsed": true
   },
   "outputs": [],
   "source": [
    "from horsetailmatching import HorsetailMatching, UniformParameter\n",
    "from horsetailmatching.demoproblems import TP2\n",
    "from horsetailmatching.surrogates import PolySurrogate\n",
    "\n",
    "import numpy as np\n",
    "\n",
    "uparams = [UniformParameter(), UniformParameter()]"
   ]
  },
  {
   "cell_type": "markdown",
   "metadata": {},
   "source": [
    "Lets start with the built in in polynomial chaos surrogate. This finds the coefficients of a polynomial expansion by evaluating the inner product of the qoi function with each polynomial using gaussian quadrature. \n",
    "\n",
    "The polynomial chaos expansion used by the PolySurrogate class uses specific quadrature points over the uncertainty space to perform efficient integration, and so we must tell the HorsetailMatching object that these are the points at which to evaluate the quantity of interest when making the surrogate. This is done with the surrogate_points argument."
   ]
  },
  {
   "cell_type": "code",
   "execution_count": 2,
   "metadata": {},
   "outputs": [
    {
     "name": "stdout",
     "output_type": "stream",
     "text": [
      "('Metric evaluated with polynomial chaos surrogate: ', 14.059291228525503)\n",
      "('Metric evaluated with direct sampling: ', 14.059291228525499)\n"
     ]
    }
   ],
   "source": [
    "thePoly = PolySurrogate(dimensions=len(uparams), order=4)\n",
    "u_quadrature = thePoly.getQuadraturePoints()\n",
    "\n",
    "def myPolynomialChaosSurrogate(u_quad, q_quad):\n",
    "    thePoly.train(q_quad)\n",
    "    return thePoly.predict\n",
    "\n",
    "theHM = HorsetailMatching(TP2, uparams, surrogate=myPolynomialChaosSurrogate, surrogate_points=u_quadrature)\n",
    "print('Metric evaluated with polynomial chaos surrogate: ', theHM.evalMetric([0, 1]))\n",
    "theHM.surrogate = None\n",
    "print('Metric evaluated with direct sampling: ', theHM.evalMetric([0, 1]))"
   ]
  },
  {
   "cell_type": "markdown",
   "metadata": {},
   "source": [
    "Next we use the pyKriging samplingplan function to give us 20 points found via latin hypercube sampling at which to evaluate the metric to create the surrogate. Then we create a function in the form required by horsetail matching called myKrigingSurrogate, and pass this as the surrogate argument when making the horestail matching object, along with the LHS points as the surrogate_points argument. Here we modify the already created horsetail matching object instead of making a new one."
   ]
  },
  {
   "cell_type": "code",
   "execution_count": 3,
   "metadata": {},
   "outputs": [
    {
     "name": "stdout",
     "output_type": "stream",
     "text": [
      "('Metric evaluated with kriging surrogate: ', 14.065556774910794)\n",
      "('Metric evaluated with direct sampling: ', 14.059291228525499)\n"
     ]
    }
   ],
   "source": [
    "from pyKriging.krige import kriging\n",
    "from pyKriging.samplingplan import samplingplan\n",
    "\n",
    "sp = samplingplan(2)\n",
    "u_sampling = sp.optimallhc(25)\n",
    "\n",
    "def myKrigingSurrogate(u_lhc, q_lhc):\n",
    "    krig = kriging(u_lhc, q_lhc)\n",
    "    krig.train()\n",
    "    return krig.predict\n",
    "\n",
    "theHM.surrogate = myKrigingSurrogate\n",
    "theHM.surrogate_points = u_sampling\n",
    "print('Metric evaluated with kriging surrogate: ', theHM.evalMetric([0, 1]))\n",
    "theHM.surrogate = None\n",
    "print('Metric evaluated with direct sampling: ', theHM.evalMetric([0, 1]))"
   ]
  },
  {
   "cell_type": "markdown",
   "metadata": {},
   "source": [
    "Now we do a similar thing with the effective quadrature toolbox to make a quadratic polynomial surrogate. \n",
    "\n"
   ]
  },
  {
   "cell_type": "code",
   "execution_count": 4,
   "metadata": {
    "scrolled": true
   },
   "outputs": [
    {
     "name": "stdout",
     "output_type": "stream",
     "text": [
      "('Metric evaluated with quadratic surrogate: ', 14.180066568158376)\n",
      "('Metric evaluated with direct sampling: ', 14.059291228525499)\n"
     ]
    }
   ],
   "source": [
    "from equadratures import Polyreg\n",
    "\n",
    "U1, U2 = np.meshgrid(np.linspace(-1, 1, 5), np.linspace(-1, 1, 5))\n",
    "u_tensor = np.vstack([U1.flatten(), U2.flatten()]).T\n",
    "\n",
    "def myQuadraticSurrogate(u_tensor, q_tensor):\n",
    "    poly = Polyreg(np.mat(u_tensor), np.mat(q_tensor).T, 'quadratic')\n",
    "    def model(u):\n",
    "        return poly.testPolynomial(np.mat(u))\n",
    "    return model\n",
    "\n",
    "theHM.surrogate = myQuadraticSurrogate\n",
    "theHM.surrogate_points = u_tensor\n",
    "print('Metric evaluated with quadratic surrogate: ', theHM.evalMetric([0, 1]))\n",
    "theHM.surrogate = None\n",
    "print('Metric evaluated with direct sampling: ', theHM.evalMetric([0, 1]))"
   ]
  },
  {
   "cell_type": "markdown",
   "metadata": {},
   "source": [
    "Surrogates can also be used with gradients, for details see the next tutorial, which gives a full example of using all of the functionality available in the horsetail matching package: http://nbviewer.jupyter.org/github/lwcook/horsetail-matching/blob/master/notebooks/FullExample.ipynb\n",
    "\n",
    "For other tutorials, please visit http://www-edc.eng.cam.ac.uk/aerotools/horsetailmatching/"
   ]
  },
  {
   "cell_type": "code",
   "execution_count": null,
   "metadata": {
    "collapsed": true
   },
   "outputs": [],
   "source": []
  }
 ],
 "metadata": {
  "kernelspec": {
   "display_name": "Python 2",
   "language": "python",
   "name": "python2"
  },
  "language_info": {
   "codemirror_mode": {
    "name": "ipython",
    "version": 2
   },
   "file_extension": ".py",
   "mimetype": "text/x-python",
   "name": "python",
   "nbconvert_exporter": "python",
   "pygments_lexer": "ipython2",
   "version": "2.7.6"
  }
 },
 "nbformat": 4,
 "nbformat_minor": 2
}
