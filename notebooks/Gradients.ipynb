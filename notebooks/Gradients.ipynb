{
 "cells": [
  {
   "cell_type": "markdown",
   "metadata": {},
   "source": [
    "In this notebook we look at how to use the gradient of the horsetail matching metric to speed up optimizations."
   ]
  },
  {
   "cell_type": "code",
   "execution_count": 16,
   "metadata": {
    "collapsed": true
   },
   "outputs": [],
   "source": [
    "import numpy\n",
    "import matplotlib\n",
    "\n",
    "from horsetailmatching import UncertainParameter, HorsetailMatching\n",
    "from horsetailmatching.demoproblems import TP1, TP2"
   ]
  },
  {
   "cell_type": "markdown",
   "metadata": {},
   "source": [
    "First we will look at the purely probabilistic case and a simple test problem. We set up the uncertain parameters and create the horsetail matching object as usual. Note that in order to propagate gradients, we must use the kernel based method of evaluating the horsetail matching metric. "
   ]
  },
  {
   "cell_type": "code",
   "execution_count": 17,
   "metadata": {
    "collapsed": true
   },
   "outputs": [],
   "source": [
    "u1 = UncertainParameter('uniform', lower_bound=-1, upper_bound=1)\n",
    "u2 = UncertainParameter('uniform', lower_bound=-1, upper_bound=1)\n",
    "input_uncertainties = [u1, u2]"
   ]
  },
  {
   "cell_type": "markdown",
   "metadata": {},
   "source": [
    "Horsetail matching uses the same syntax for specifying a gradient as the scipy.minimize function, through the 'jac' argument. If 'jac' is True, then horsetail matching expects the qoi function to also return the jacobian of the qoi (the gradient with respect to the design variables). Alternatively 'jac' is a fuction that similarly to the qoi function takes two inputs (the values of the design variables and uncertainties), and returns the gradient. The following code demonstrates these alternatives:"
   ]
  },
  {
   "cell_type": "code",
   "execution_count": 40,
   "metadata": {},
   "outputs": [
    {
     "name": "stdout",
     "output_type": "stream",
     "text": [
      "(0.3466371433214191, array([ 0.34403422,  0.34403422]))\n"
     ]
    }
   ],
   "source": [
    "fun_qjac = lambda x, u: TP1(x, u, jac=True)  # Returns both qoi and its gradient\n",
    "fun_q = lambda x, u: TP1(x, u, jac=False)  # Returns just the qoi\n",
    "fun_jac = lambda x, u: TP1(x, u, jac=True)[1]  # Returns just the gradient\n",
    "\n",
    "theHM = HorsetailMatching(fun_qjac, input_uncertainties, jac=True, method='kernel', \n",
    "                          n_samples_prob=2000, q_integration_points=numpy.linspace(-1, 5, 500))\n",
    "\n",
    "theHM = HorsetailMatching(fun_q, input_uncertainties, jac=fun_jac, method='kernel', \n",
    "                          n_samples_prob=2000, q_integration_points=numpy.linspace(-1, 5, 500))\n",
    "\n",
    "print(theHM.evalMetric([1,1]))"
   ]
  },
  {
   "cell_type": "markdown",
   "metadata": {},
   "source": [
    "Now we can use this in a gradient based optimizer:"
   ]
  },
  {
   "cell_type": "code",
   "execution_count": 41,
   "metadata": {},
   "outputs": [
    {
     "name": "stdout",
     "output_type": "stream",
     "text": [
      "   status: 0\n",
      "  success: True\n",
      "     njev: 9\n",
      "     nfev: 9\n",
      " hess_inv: array([[ 169.46861553,  168.46861553],\n",
      "       [ 168.46861553,  169.46861553]])\n",
      "      fun: 0.030037852372911258\n",
      "        x: array([ 0.01025373,  0.01025373])\n",
      "  message: 'Optimization terminated successfully.'\n",
      "      jac: array([  4.28009877e-06,   4.28009877e-06])\n"
     ]
    }
   ],
   "source": [
    "from scipy.optimize import minimize\n",
    "\n",
    "solution = minimize(theHM.evalMetric, x0=[1,1], method='BFGS', jac=True)\n",
    "print(solution)"
   ]
  },
  {
   "cell_type": "code",
   "execution_count": 42,
   "metadata": {},
   "outputs": [
    {
     "data": {
      "image/png": "[encoded data removed]",
      "text/plain": [
       "<matplotlib.figure.Figure at 0x7ff72308e610>"
      ]
     },
     "metadata": {},
     "output_type": "display_data"
    }
   ],
   "source": [
    "theHM.plotHorsetail()\n",
    "matplotlib.pyplot.xlim([-1, 2])\n",
    "matplotlib.pyplot.show()"
   ]
  },
  {
   "cell_type": "markdown",
   "metadata": {},
   "source": [
    "This concludes our illustration of using horsetail matching with gradients. For other tutorials, please visit http://www-edc.eng.cam.ac.uk/aerotools/horsetailmatching/"
   ]
  },
  {
   "cell_type": "code",
   "execution_count": null,
   "metadata": {
    "collapsed": true
   },
   "outputs": [],
   "source": []
  }
 ],
 "metadata": {
  "kernelspec": {
   "display_name": "Python 2",
   "language": "python",
   "name": "python2"
  },
  "language_info": {
   "codemirror_mode": {
    "name": "ipython",
    "version": 2
   },
   "file_extension": ".py",
   "mimetype": "text/x-python",
   "name": "python",
   "nbconvert_exporter": "python",
   "pygments_lexer": "ipython2",
   "version": "2.7.6"
  }
 },
 "nbformat": 4,
 "nbformat_minor": 2
}
