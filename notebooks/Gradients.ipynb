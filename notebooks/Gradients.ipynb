{
 "cells": [
  {
   "cell_type": "markdown",
   "metadata": {},
   "source": [
    "In this notebook we look at how to use the gradient of the horsetail matching metric to speed up optimizations (in terms of number of evaluations of the quantity of interest)."
   ]
  },
  {
   "cell_type": "code",
   "execution_count": 1,
   "metadata": {
    "collapsed": true
   },
   "outputs": [],
   "source": [
    "import numpy\n",
    "import matplotlib.pyplot as plt\n",
    "\n",
    "from horsetailmatching import UniformParameter, IntervalParameter, HorsetailMatching\n",
    "from horsetailmatching.demoproblems import TP1, TP2"
   ]
  },
  {
   "cell_type": "markdown",
   "metadata": {},
   "source": [
    "First we will look at the purely probabilistic case and a simple test problem. We set up the uncertain parameters and create the horsetail matching object as usual. Note that in order to propagate gradients, we must use the kernel based method of evaluating the horsetail matching metric. "
   ]
  },
  {
   "cell_type": "code",
   "execution_count": 2,
   "metadata": {
    "collapsed": true
   },
   "outputs": [],
   "source": [
    "u1 = UniformParameter(lower_bound=-1, upper_bound=1)\n",
    "u2 = UniformParameter(lower_bound=-1, upper_bound=1)\n",
    "input_uncertainties = [u1, u2]"
   ]
  },
  {
   "cell_type": "markdown",
   "metadata": {},
   "source": [
    "Horsetail matching uses the same syntax for specifying a gradient as the scipy.minimize function: through the 'jac' argument. If 'jac' is True, then horsetail matching expects the qoi function to also return the jacobian of the qoi (the gradient with respect to the design variables). Alternatively 'jac' is a fuction that takes two inputs (the values of the design variables and uncertainties), and returns the gradient. The following code demonstrates these alternatives:"
   ]
  },
  {
   "cell_type": "code",
   "execution_count": 3,
   "metadata": {},
   "outputs": [
    {
     "name": "stdout",
     "output_type": "stream",
     "text": [
      "(0.5710164637334981, array([ 0.54439843,  0.54439843]))\n"
     ]
    }
   ],
   "source": [
    "def fun_qjac(x, u):\n",
    "    return TP1(x, u, jac=True)  # Returns both qoi and its gradient\n",
    "\n",
    "def fun_q(x, u): \n",
    "    return TP1(x, u, jac=False)  # Returns just the qoi\n",
    "\n",
    "def fun_jac(x, u):\n",
    "    return TP1(x, u, jac=True)[1]  # Returns just the gradient\n",
    "\n",
    "theHM = HorsetailMatching(fun_qjac, input_uncertainties, jac=True, method='kernel', kernel_bandwidth=0.001,\n",
    "                          samples_prob=2000, integration_points=numpy.linspace(-1, 10, 500))\n",
    "\n",
    "theHM = HorsetailMatching(fun_q, input_uncertainties, jac=fun_jac, method='kernel', kernel_bandwidth=0.001,\n",
    "                          samples_prob=2000, integration_points=numpy.linspace(-1, 10, 500))\n",
    "\n",
    "print(theHM.evalMetric([1,1]))"
   ]
  },
  {
   "cell_type": "markdown",
   "metadata": {},
   "source": [
    "Note that when we are using kernels to evaluate the horsetail plot (with the method 'kernel'), it is important to provide integration points that cover the range of values of q that \n",
    "\n",
    "\n",
    "Now we can use this in a gradient based optimizer:"
   ]
  },
  {
   "cell_type": "code",
   "execution_count": 4,
   "metadata": {},
   "outputs": [
    {
     "name": "stdout",
     "output_type": "stream",
     "text": [
      "   status: 0\n",
      "  success: True\n",
      "     njev: 4\n",
      "     nfev: 4\n",
      " hess_inv: array([[ 1.28032721,  0.28032721],\n",
      "       [ 0.28032721,  1.28032721]])\n",
      "      fun: 0.01615682915490698\n",
      "        x: array([-0.03152419, -0.03152419])\n",
      "  message: 'Optimization terminated successfully.'\n",
      "      jac: array([  6.46643419e-17,   6.46643419e-17])\n"
     ]
    }
   ],
   "source": [
    "from scipy.optimize import minimize\n",
    "\n",
    "solution = minimize(theHM.evalMetric, x0=[1,1], method='BFGS', jac=True)\n",
    "print(solution)"
   ]
  },
  {
   "cell_type": "code",
   "execution_count": 5,
   "metadata": {
    "scrolled": true
   },
   "outputs": [
    {
     "data": {
      "image/png": "[encoded data removed]",
      "text/plain": [
       "<matplotlib.figure.Figure at 0x7f49ad882510>"
      ]
     },
     "metadata": {},
     "output_type": "display_data"
    }
   ],
   "source": [
    "(x1, y1), (x2, y2), CDFs = theHM.getHorsetail()\n",
    "\n",
    "for (x, y) in CDFs:\n",
    "    plt.plot(x, y, c='grey', lw=0.5)\n",
    "plt.plot(x1, y1, 'r')\n",
    "plt.plot([theHM.ftarget(y) for y in y1], y1, 'k--')\n",
    "plt.xlim([-1, 5])\n",
    "plt.ylim([0, 1])\n",
    "plt.xlabel('Quantity of Interest')\n",
    "plt.show()"
   ]
  },
  {
   "cell_type": "markdown",
   "metadata": {},
   "source": [
    "Once again the optimizer has found the optimum at x=[0,0], but this time in fewer iterations. \n",
    "\n",
    "We can also use gradients for optimization under mixed uncertainties in exactly the same way. The example below performs the optimization of TP2 like in the mixed uncertainties tutorial, but this time using gradients. Note that we turn on the verbosity so we can see what the horsetail matching object is doing at each design point. "
   ]
  },
  {
   "cell_type": "code",
   "execution_count": 6,
   "metadata": {},
   "outputs": [],
   "source": [
    "def fun_qjac(x, u):\n",
    "    return TP2(x, u, jac=True)  # Returns both qoi and its gradient\n",
    "\n",
    "u1 = IntervalParameter()\n",
    "u2 = UniformParameter()\n",
    "input_uncertainties = [u1, u2]\n",
    "\n",
    "theHM = HorsetailMatching(fun_qjac, input_uncertainties, jac=True, method='kernel',\n",
    "                          samples_prob=500, samples_int=50, integration_points=numpy.linspace(-20, 20, 1000),\n",
    "                          verbose=True)"
   ]
  },
  {
   "cell_type": "code",
   "execution_count": 7,
   "metadata": {},
   "outputs": [
    {
     "name": "stdout",
     "output_type": "stream",
     "text": [
      "----------\n",
      "At design: [1 1]\n",
      "Evaluating surrogate\n",
      "Getting uncertain parameter samples\n",
      "Evaluating quantity of interest at samples\n",
      "Evaluating metric\n",
      "Metric: 14.1732639339\n",
      "Gradient: [0.016891073032528632, 0.37503565470083861]\n",
      "----------\n",
      "At design: [1 1]\n",
      "Evaluating surrogate\n",
      "Re-using stored samples\n",
      "Evaluating quantity of interest at samples\n",
      "Evaluating metric\n",
      "Metric: 14.1732639339\n",
      "Gradient: [0.016891073032528632, 0.37503565470083861]\n",
      "----------\n",
      "At design: [ 0.98310893  0.62496435]\n",
      "Evaluating surrogate\n",
      "Re-using stored samples\n",
      "Evaluating quantity of interest at samples\n",
      "Evaluating metric\n",
      "Metric: 14.0284688886\n",
      "Gradient: [0.017316018959698927, 0.38540801615581399]\n",
      "----------\n",
      "At design: [ 0.91554463 -0.87517827]\n",
      "Evaluating surrogate\n",
      "Re-using stored samples\n",
      "Evaluating quantity of interest at samples\n",
      "Evaluating metric\n",
      "Metric: 13.4738151661\n",
      "Gradient: [0.016009967885665291, 0.35682671446784142]\n",
      "----------\n",
      "At design: [ 0.64528747 -6.87574875]\n",
      "Evaluating surrogate\n",
      "Re-using stored samples\n",
      "Evaluating quantity of interest at samples\n",
      "Evaluating metric\n",
      "Metric: 11.6415343513\n",
      "Gradient: [0.011167201196754234, 0.2493152178456583]\n",
      "----------\n",
      "At design: [ -0.0579335 -22.4935756]\n",
      "Evaluating surrogate\n",
      "Re-using stored samples\n",
      "Evaluating quantity of interest at samples\n",
      "Evaluating metric\n",
      "Metric: 9.86551323496\n",
      "Gradient: [-0.0010657632223924805, -0.019599833097376566]\n",
      "----------\n",
      "At design: [ -6.48507860e-03  -2.13548260e+01]\n",
      "Evaluating surrogate\n",
      "Re-using stored samples\n",
      "Evaluating quantity of interest at samples\n",
      "Evaluating metric\n",
      "Metric: 9.85111589055\n",
      "Gradient: [-0.00011012244357812365, -0.0015988079410652605]\n",
      "----------\n",
      "At design: [ -1.88712526e-03  -2.12536144e+01]\n",
      "Evaluating surrogate\n",
      "Re-using stored samples\n",
      "Evaluating quantity of interest at samples\n",
      "Evaluating metric\n",
      "Metric: 9.85106243918\n",
      "Gradient: [-3.2014180191032202e-05, 0.00027117808963582243]\n",
      "----------\n",
      "At design: [ -2.50580380e-03  -2.12681871e+01]\n",
      "Evaluating surrogate\n",
      "Re-using stored samples\n",
      "Evaluating quantity of interest at samples\n",
      "Evaluating metric\n",
      "Metric: 9.85105988297\n",
      "Gradient: [-4.2543062301448454e-05, 8.2108696951931518e-05]\n",
      "----------\n",
      "At design: [ -2.72095095e-03  -2.12743646e+01]\n",
      "Evaluating surrogate\n",
      "Re-using stored samples\n",
      "Evaluating quantity of interest at samples\n",
      "Evaluating metric\n",
      "Metric: 9.85105963882\n",
      "Gradient: [-4.6208229215951621e-05, -3.3448458266788433e-07]\n",
      "----------\n",
      "At design: [ -2.66956258e-03  -2.12742212e+01]\n",
      "Evaluating surrogate\n",
      "Re-using stored samples\n",
      "Evaluating quantity of interest at samples\n",
      "Evaluating metric\n",
      "Metric: 9.85105963655\n",
      "Gradient: [-4.5335269684135258e-05, 1.6053648561233389e-06]\n",
      "----------\n",
      "At design: [ -2.56415625e-03  -2.12740895e+01]\n",
      "Evaluating surrogate\n",
      "Re-using stored samples\n",
      "Evaluating quantity of interest at samples\n",
      "Evaluating metric\n",
      "Metric: 9.8510596322\n",
      "Gradient: [-4.3544997269108197e-05, 3.3857416404214034e-06]\n",
      "----------\n",
      "At design: [ -2.14253094e-03  -2.12735629e+01]\n",
      "Evaluating surrogate\n",
      "Re-using stored samples\n",
      "Evaluating quantity of interest at samples\n",
      "Evaluating metric\n",
      "Metric: 9.851059619\n",
      "Gradient: [-3.6384091757697919e-05, 1.049547129897509e-05]\n",
      "----------\n",
      "At design: [ -1.17669082e-03  -2.12731556e+01]\n",
      "Evaluating surrogate\n",
      "Re-using stored samples\n",
      "Evaluating quantity of interest at samples\n",
      "Evaluating metric\n",
      "Metric: 9.85105959718\n",
      "Gradient: [-1.9982025217579946e-05, 1.5981763567218885e-05]\n",
      "----------\n",
      "At design: [ -2.98876245e-04  -2.12734486e+01]\n",
      "Evaluating surrogate\n",
      "Re-using stored samples\n",
      "Evaluating quantity of interest at samples\n",
      "Evaluating metric\n",
      "Metric: 9.85105958207\n",
      "Gradient: [-5.075441519150074e-06, 1.2036833320229039e-05]\n",
      "----------\n",
      "At design: [  7.44297220e-05  -2.12740615e+01]\n",
      "Evaluating surrogate\n",
      "Re-using stored samples\n",
      "Evaluating quantity of interest at samples\n",
      "Evaluating metric\n",
      "Metric: 9.85105957652\n",
      "Gradient: [1.2639786695479116e-06, 3.7667111238668214e-06]\n",
      "   status: 0\n",
      "  success: True\n",
      "     njev: 15\n",
      "     nfev: 15\n",
      " hess_inv: array([[ 57.04586474,  -6.95972227],\n",
      "       [ -6.95972227,  47.98280624]])\n",
      "      fun: 9.851059576517615\n",
      "        x: array([  7.44297220e-05,  -2.12740615e+01])\n",
      "  message: 'Optimization terminated successfully.'\n",
      "      jac: array([  1.26397867e-06,   3.76671112e-06])\n"
     ]
    }
   ],
   "source": [
    "solution = minimize(theHM.evalMetric, x0=[1, 1], method='BFGS', jac=True)\n",
    "print(solution)"
   ]
  },
  {
   "cell_type": "markdown",
   "metadata": {},
   "source": [
    "To plot the optimum solution..."
   ]
  },
  {
   "cell_type": "code",
   "execution_count": 8,
   "metadata": {},
   "outputs": [
    {
     "data": {
      "image/png": "[encoded data removed]",
      "text/plain": [
       "<matplotlib.figure.Figure at 0x7f49ad3b88d0>"
      ]
     },
     "metadata": {},
     "output_type": "display_data"
    }
   ],
   "source": [
    "upper, lower, CDFs = theHM.getHorsetail()\n",
    "\n",
    "for CDF in CDFs:\n",
    "    plt.plot(CDF[0], CDF[1], c='grey', lw=0.5)\n",
    "plt.plot(upper[0], upper[1], 'r')\n",
    "plt.plot(lower[0], lower[1], 'r')\n",
    "plt.plot([theHM.ftarget(y) for y in upper[1]], upper[1], 'k--')\n",
    "plt.xlim([0, 15])\n",
    "plt.ylim([0, 1])\n",
    "plt.xlabel('Quantity of Interest')\n",
    "plt.show()"
   ]
  },
  {
   "cell_type": "markdown",
   "metadata": {
    "collapsed": true
   },
   "source": [
    "We can see that using gradients we found the minimum after visiting about an order of magnitude fewer design points than were required without using gradients in the mixed uncertainties tutorial.\n",
    "\n",
    "This concludes our illustration of using horsetail matching with gradients. In the next tutorial we illustrate how we can change the target to specify preferences about the desired behavior under uncertainty: http://nbviewer.jupyter.org/github/lwcook/horsetail-matching/blob/master/notebooks/Targets.ipynb\n",
    "\n",
    "For other tutorials, please visit http://www-edc.eng.cam.ac.uk/aerotools/horsetailmatching/"
   ]
  },
  {
   "cell_type": "code",
   "execution_count": null,
   "metadata": {
    "collapsed": true
   },
   "outputs": [],
   "source": []
  }
 ],
 "metadata": {
  "kernelspec": {
   "display_name": "Python 2",
   "language": "python",
   "name": "python2"
  },
  "language_info": {
   "codemirror_mode": {
    "name": "ipython",
    "version": 2
   },
   "file_extension": ".py",
   "mimetype": "text/x-python",
   "name": "python",
   "nbconvert_exporter": "python",
   "pygments_lexer": "ipython2",
   "version": "2.7.6"
  }
 },
 "nbformat": 4,
 "nbformat_minor": 2
}
