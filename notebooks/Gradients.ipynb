{
 "cells": [
  {
   "cell_type": "markdown",
   "metadata": {},
   "source": [
    "In this notebook we look at how to use the gradient of the horsetail matching metric to speed up optimizations (in terms of number of evaluations of the quantity of interest)."
   ]
  },
  {
   "cell_type": "code",
   "execution_count": 5,
   "metadata": {
    "collapsed": true
   },
   "outputs": [],
   "source": [
    "import numpy\n",
    "import matplotlib.pyplot as plt\n",
    "\n",
    "from horsetailmatching import UniformParameter, IntervalParameter, HorsetailMatching\n",
    "from horsetailmatching.demoproblems import TP1, TP2"
   ]
  },
  {
   "cell_type": "markdown",
   "metadata": {},
   "source": [
    "First we will look at the purely probabilistic case and a simple test problem. We set up the uncertain parameters and create the horsetail matching object as usual."
   ]
  },
  {
   "cell_type": "code",
   "execution_count": 6,
   "metadata": {
    "collapsed": true
   },
   "outputs": [],
   "source": [
    "u1 = UniformParameter(lower_bound=-1, upper_bound=1)\n",
    "u2 = UniformParameter(lower_bound=-1, upper_bound=1)\n",
    "input_uncertainties = [u1, u2]"
   ]
  },
  {
   "cell_type": "markdown",
   "metadata": {},
   "source": [
    "Horsetail matching uses the same syntax for specifying a gradient as the scipy.minimize function: through the 'jac' argument. If 'jac' is True, then horsetail matching expects the qoi function to also return the jacobian of the qoi (the gradient with respect to the design variables). Alternatively 'jac' is a fuction that takes two inputs (the values of the design variables and uncertainties), and returns the gradient. The following code demonstrates these alternatives:"
   ]
  },
  {
   "cell_type": "code",
   "execution_count": 17,
   "metadata": {},
   "outputs": [
    {
     "name": "stdout",
     "output_type": "stream",
     "text": [
      "(0.6593555042056856, array([0.65943648, 0.65943648]))\n"
     ]
    }
   ],
   "source": [
    "def fun_qjac(x, u):\n",
    "    return TP1(x, u, jac=True)  # Returns both qoi and its gradient\n",
    "\n",
    "def fun_q(x, u): \n",
    "    return TP1(x, u, jac=False)  # Returns just the qoi\n",
    "\n",
    "def fun_jac(x, u):\n",
    "    return TP1(x, u, jac=True)[1]  # Returns just the gradient\n",
    "\n",
    "theHM = HorsetailMatching(fun_qjac, input_uncertainties, jac=True, method='kernel', kernel_bandwidth=0.001,\n",
    "                          samples_prob=2000, integration_points=numpy.linspace(-10, 100, 5000))\n",
    "\n",
    "theHM = HorsetailMatching(fun_q, input_uncertainties, jac=fun_jac, method='empirical', samples_prob=2000)\n",
    "\n",
    "print(theHM.evalMetric([1,1]))"
   ]
  },
  {
   "cell_type": "markdown",
   "metadata": {},
   "source": [
    "The gradient can be evaluated using either the 'empirical' or 'kernel' based methods, however the 'empirical' method can sometimes give discontinuous gradients and so in general the 'kernel' based method is preferred.\n",
    "\n",
    "Note that when we are using kernels to evaluate the horsetail plot (with the method 'kernel'), it is important to provide integration points that cover the range of values of q that designs visited in the optimization might reach. Integrations points far beyond the range of samples are not evaluated and so this range can be made to be large without taking a computational penalty.\n",
    "Additionally, here we specified the kernel_bandwidth which is fixed throughout an optimization. If this is not specified, Scott's rule is used on the samples from the initial design to determine the bandwidth. \n",
    "\n",
    "Now we can use this in a gradient based optimizer:"
   ]
  },
  {
   "cell_type": "code",
   "execution_count": 18,
   "metadata": {},
   "outputs": [
    {
     "name": "stdout",
     "output_type": "stream",
     "text": [
      "   status: 0\n",
      "  success: True\n",
      "     njev: 5\n",
      "     nfev: 5\n",
      " hess_inv: array([[1.49749878, 0.49749878],\n",
      "       [0.49749878, 1.49749878]])\n",
      "      fun: 2.2505826744985923e-23\n",
      "        x: array([-6.70067685e-12, -6.70067685e-12])\n",
      "  message: 'Optimization terminated successfully.'\n",
      "      jac: array([-3.35873931e-12, -3.35873931e-12])\n"
     ]
    }
   ],
   "source": [
    "from scipy.optimize import minimize\n",
    "\n",
    "solution = minimize(theHM.evalMetric, x0=[1,1], method='BFGS', jac=True)\n",
    "print(solution)"
   ]
  },
  {
   "cell_type": "code",
   "execution_count": 16,
   "metadata": {
    "scrolled": true
   },
   "outputs": [
    {
     "data": {
      "image/png": "[encoded data removed]",
      "text/plain": [
       "<matplotlib.figure.Figure at 0x7fec8847e250>"
      ]
     },
     "metadata": {},
     "output_type": "display_data"
    }
   ],
   "source": [
    "(x1, y1, t1), (x2, y2, t2), CDFs = theHM.getHorsetail()\n",
    "\n",
    "for (x, y) in CDFs:\n",
    "    plt.plot(x, y, c='grey', lw=0.5)\n",
    "plt.plot(x1, y1, 'r')\n",
    "plt.plot(t1, y1, 'k--')\n",
    "plt.xlim([-1, 5])\n",
    "plt.ylim([0, 1])\n",
    "plt.xlabel('Quantity of Interest')\n",
    "plt.show()"
   ]
  },
  {
   "cell_type": "markdown",
   "metadata": {},
   "source": [
    "Once again the optimizer has found the optimum where the CDF is a step function, but this time in fewer iterations. \n",
    "\n",
    "We can also use gradients for optimization under mixed uncertainties in exactly the same way. The example below performs the optimization of TP2 like in the mixed uncertainties tutorial, but this time using gradients. Note that we turn on the verbosity so we can see what the horsetail matching object is doing at each design point. "
   ]
  },
  {
   "cell_type": "code",
   "execution_count": 23,
   "metadata": {
    "collapsed": true
   },
   "outputs": [],
   "source": [
    "def fun_qjac(x, u):\n",
    "    return TP2(x, u, jac=True)  # Returns both qoi and its gradient\n",
    "\n",
    "u1 = IntervalParameter()\n",
    "u2 = UniformParameter()\n",
    "input_uncertainties = [u1, u2]\n",
    "\n",
    "theHM = HorsetailMatching(fun_qjac, input_uncertainties, jac=True, method='kernel',\n",
    "                          samples_prob=500, samples_int=50, integration_points=numpy.linspace(-20, 100, 3000),\n",
    "                          verbose=True)"
   ]
  },
  {
   "cell_type": "code",
   "execution_count": 24,
   "metadata": {},
   "outputs": [
    {
     "name": "stdout",
     "output_type": "stream",
     "text": [
      "----------\n",
      "At design: [1 1]\n",
      "Evaluating surrogate\n",
      "Getting uncertain parameter samples\n",
      "Evaluating quantity of interest at samples\n",
      "Evaluating metric\n",
      "Metric: 14.1282683537\n",
      "Gradient: [0.01743255038181948, 0.3856895383719237]\n",
      "----------\n",
      "At design: [1 1]\n",
      "Evaluating surrogate\n",
      "Re-using stored samples\n",
      "Evaluating quantity of interest at samples\n",
      "Evaluating metric\n",
      "Metric: 14.1282683537\n",
      "Gradient: [0.01743255038181948, 0.3856895383719237]\n",
      "----------\n",
      "At design: [0.98256745 0.61431046]\n",
      "Evaluating surrogate\n",
      "Re-using stored samples\n",
      "Evaluating quantity of interest at samples\n",
      "Evaluating metric\n",
      "Metric: 13.9802030845\n",
      "Gradient: [0.01712794749355044, 0.37883782931632975]\n",
      "----------\n",
      "At design: [ 0.91283725 -0.92844769]\n",
      "Evaluating surrogate\n",
      "Re-using stored samples\n",
      "Evaluating quantity of interest at samples\n",
      "Evaluating metric\n",
      "Metric: 13.4141517269\n",
      "Gradient: [0.015974376105221698, 0.3532208624520319]\n",
      "----------\n",
      "At design: [ 0.63391644 -7.09948031]\n",
      "Evaluating surrogate\n",
      "Re-using stored samples\n",
      "Evaluating quantity of interest at samples\n",
      "Evaluating metric\n",
      "Metric: 11.5701321705\n",
      "Gradient: [0.011044683822292132, 0.24223776333160166]\n",
      "----------\n",
      "At design: [ 1.54476577e-02 -2.07771959e+01]\n",
      "Evaluating surrogate\n",
      "Re-using stored samples\n",
      "Evaluating quantity of interest at samples\n",
      "Evaluating metric\n",
      "Metric: 9.85590907212\n",
      "Gradient: [0.0002678984670712711, 0.007233513233133962]\n",
      "----------\n",
      "At design: [-3.51776926e-03 -2.11980361e+01]\n",
      "Evaluating surrogate\n",
      "Re-using stored samples\n",
      "Evaluating quantity of interest at samples\n",
      "Evaluating metric\n",
      "Metric: 9.85440381697\n",
      "Gradient: [-6.0689310903331896e-05, -0.00017091448266384838]\n",
      "----------\n",
      "At design: [-3.02087732e-03 -2.11881885e+01]\n",
      "Evaluating surrogate\n",
      "Re-using stored samples\n",
      "Evaluating quantity of interest at samples\n",
      "Evaluating metric\n",
      "Metric: 9.8544029541\n",
      "Gradient: [-5.20941541433529e-05, 1.4924249942118609e-06]\n",
      "----------\n",
      "At design: [-2.96548797e-03 -2.11881264e+01]\n",
      "Evaluating surrogate\n",
      "Re-using stored samples\n",
      "Evaluating quantity of interest at samples\n",
      "Evaluating metric\n",
      "Metric: 9.85440295137\n",
      "Gradient: [-5.1138838779702315e-05, 2.582828848723064e-06]\n",
      "----------\n",
      "At design: [-2.74393058e-03 -2.11878779e+01]\n",
      "Evaluating surrogate\n",
      "Re-using stored samples\n",
      "Evaluating quantity of interest at samples\n",
      "Evaluating metric\n",
      "Metric: 9.85440294165\n",
      "Gradient: [-4.731763025397239e-05, 6.944730722482717e-06]\n",
      "----------\n",
      "At design: [-2.18737532e-03 -2.11877088e+01]\n",
      "Evaluating surrogate\n",
      "Re-using stored samples\n",
      "Evaluating quantity of interest at samples\n",
      "Evaluating metric\n",
      "Metric: 9.85440291941\n",
      "Gradient: [-3.771984343918916e-05, 9.912783160812101e-06]\n",
      "----------\n",
      "At design: [-1.00787178e-03 -2.11877525e+01]\n",
      "Evaluating surrogate\n",
      "Re-using stored samples\n",
      "Evaluating quantity of interest at samples\n",
      "Evaluating metric\n",
      "Metric: 9.8544028865\n",
      "Gradient: [-1.738011680481312e-05, 9.147969105678964e-06]\n",
      "----------\n",
      "At design: [ 7.10200722e-06 -2.11880859e+01]\n",
      "Evaluating surrogate\n",
      "Re-using stored samples\n",
      "Evaluating quantity of interest at samples\n",
      "Evaluating metric\n",
      "Metric: 9.85440287566\n",
      "Gradient: [1.2247148501354215e-07, 3.296671861165219e-06]\n",
      "   status: 0\n",
      "  success: True\n",
      "     njev: 12\n",
      "     nfev: 12\n",
      " hess_inv: array([[57.95871512, -0.83565505],\n",
      "       [-0.83565505, 34.86283486]])\n",
      "      fun: 9.854402875663352\n",
      "        x: array([ 7.10200722e-06, -2.11880859e+01])\n",
      "  message: 'Optimization terminated successfully.'\n",
      "      jac: array([1.22471485e-07, 3.29667186e-06])\n"
     ]
    }
   ],
   "source": [
    "solution = minimize(theHM.evalMetric, x0=[1, 1], method='BFGS', jac=True)\n",
    "print(solution)"
   ]
  },
  {
   "cell_type": "markdown",
   "metadata": {},
   "source": [
    "To plot the optimum solution..."
   ]
  },
  {
   "cell_type": "code",
   "execution_count": 25,
   "metadata": {},
   "outputs": [
    {
     "data": {
      "image/png": "[encoded data removed]",
      "text/plain": [
       "<matplotlib.figure.Figure at 0x7fec4d4225d0>"
      ]
     },
     "metadata": {},
     "output_type": "display_data"
    }
   ],
   "source": [
    "upper, lower, CDFs = theHM.getHorsetail()\n",
    "(q1, h1, t1) = upper\n",
    "(q2, h2, t2) = lower\n",
    "\n",
    "for CDF in CDFs:\n",
    "    plt.plot(CDF[0], CDF[1], c='grey', lw=0.05)\n",
    "plt.plot(q1, h1, 'r')\n",
    "plt.plot(q2, h2, 'r')\n",
    "plt.plot(t1, h1, 'k--')\n",
    "plt.plot(t2, h2, 'k--')\n",
    "plt.xlim([0, 15])\n",
    "plt.ylim([0, 1])\n",
    "plt.xlabel('Quantity of Interest')\n",
    "plt.show()"
   ]
  },
  {
   "cell_type": "markdown",
   "metadata": {
    "collapsed": true
   },
   "source": [
    "We can see that using gradients we found the minimum after visiting about an order of magnitude fewer design points than were required without using gradients in the mixed uncertainties tutorial.\n",
    "\n",
    "This concludes our illustration of using horsetail matching with gradients. In the next tutorial we illustrate how we can change the target to specify preferences about the desired behavior under uncertainty: http://nbviewer.jupyter.org/github/lwcook/horsetail-matching/blob/master/notebooks/Targets.ipynb\n",
    "\n",
    "For other tutorials, please visit http://www-edc.eng.cam.ac.uk/aerotools/horsetailmatching/"
   ]
  },
  {
   "cell_type": "code",
   "execution_count": null,
   "metadata": {
    "collapsed": true
   },
   "outputs": [],
   "source": []
  }
 ],
 "metadata": {
  "kernelspec": {
   "display_name": "Python 2",
   "language": "python",
   "name": "python2"
  },
  "language_info": {
   "codemirror_mode": {
    "name": "ipython",
    "version": 2
   },
   "file_extension": ".py",
   "mimetype": "text/x-python",
   "name": "python",
   "nbconvert_exporter": "python",
   "pygments_lexer": "ipython2",
   "version": "2.7.6"
  }
 },
 "nbformat": 4,
 "nbformat_minor": 2
}
