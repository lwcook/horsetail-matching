{
 "cells": [
  {
   "cell_type": "markdown",
   "metadata": {},
   "source": [
    "In this notebook we look at how to use the gradient of the horsetail matching metric to speed up optimizations (in terms of number of evaluations of the quantity of interest)."
   ]
  },
  {
   "cell_type": "code",
   "execution_count": 1,
   "metadata": {
    "collapsed": true
   },
   "outputs": [],
   "source": [
    "import numpy\n",
    "import matplotlib.pyplot as plt\n",
    "\n",
    "from horsetailmatching import UniformParameter, IntervalParameter, HorsetailMatching\n",
    "from horsetailmatching.demoproblems import TP1, TP2"
   ]
  },
  {
   "cell_type": "markdown",
   "metadata": {},
   "source": [
    "First we will look at the purely probabilistic case and a simple test problem. We set up the uncertain parameters and create the horsetail matching object as usual. Note that in order to propagate gradients, we must use the kernel based method of evaluating the horsetail matching metric. "
   ]
  },
  {
   "cell_type": "code",
   "execution_count": 2,
   "metadata": {
    "collapsed": true
   },
   "outputs": [],
   "source": [
    "u1 = UniformParameter(lower_bound=-1, upper_bound=1)\n",
    "u2 = UniformParameter(lower_bound=-1, upper_bound=1)\n",
    "input_uncertainties = [u1, u2]"
   ]
  },
  {
   "cell_type": "markdown",
   "metadata": {},
   "source": [
    "Horsetail matching uses the same syntax for specifying a gradient as the scipy.minimize function: through the 'jac' argument. If 'jac' is True, then horsetail matching expects the qoi function to also return the jacobian of the qoi (the gradient with respect to the design variables). Alternatively 'jac' is a fuction that takes two inputs (the values of the design variables and uncertainties), and returns the gradient. The following code demonstrates these alternatives:"
   ]
  },
  {
   "cell_type": "code",
   "execution_count": 3,
   "metadata": {},
   "outputs": [
    {
     "name": "stdout",
     "output_type": "stream",
     "text": [
      "(0.574236940596531, array([ 0.50104476,  0.50104476]))\n"
     ]
    }
   ],
   "source": [
    "def fun_qjac(x, u):\n",
    "    return TP1(x, u, jac=True)  # Returns both qoi and its gradient\n",
    "\n",
    "def fun_q(x, u): \n",
    "    return TP1(x, u, jac=False)  # Returns just the qoi\n",
    "\n",
    "def fun_jac(x, u):\n",
    "    return TP1(x, u, jac=True)[1]  # Returns just the gradient\n",
    "\n",
    "theHM = HorsetailMatching(fun_qjac, input_uncertainties, jac=True, method='kernel', kernel_bandwidth=0.001,\n",
    "                          samples_prob=2000, integration_points=numpy.linspace(-1, 10, 500))\n",
    "\n",
    "theHM = HorsetailMatching(fun_q, input_uncertainties, jac=fun_jac, method='kernel', kernel_bandwidth=0.001,\n",
    "                          samples_prob=2000, integration_points=numpy.linspace(-1, 10, 500))\n",
    "\n",
    "print(theHM.evalMetric([1,1]))"
   ]
  },
  {
   "cell_type": "markdown",
   "metadata": {},
   "source": [
    "Note that when we are using kernels to evaluate the horsetail plot (with the method 'kernel'), it is important to provide integration points that cover the range of values of q that designs visited in the optimization might reach.\n",
    "Additionally, here we specified the kernel_bandwidth which is fixed throughout an optimization. If this is not specified, Scott's rule is used on the samples from the initial design to determine the bandwidth. \n",
    "\n",
    "\n",
    "Now we can use this in a gradient based optimizer:"
   ]
  },
  {
   "cell_type": "code",
   "execution_count": 4,
   "metadata": {},
   "outputs": [
    {
     "name": "stdout",
     "output_type": "stream",
     "text": [
      "   status: 0\n",
      "  success: True\n",
      "     njev: 3\n",
      "     nfev: 3\n",
      " hess_inv: array([[ 1.4286499,  0.4286499],\n",
      "       [ 0.4286499,  1.4286499]])\n",
      "      fun: 0.01615682915490751\n",
      "        x: array([ 0.06940966,  0.06940966])\n",
      "  message: 'Optimization terminated successfully.'\n",
      "      jac: array([  3.87377254e-13,   3.87377254e-13])\n"
     ]
    }
   ],
   "source": [
    "from scipy.optimize import minimize\n",
    "\n",
    "solution = minimize(theHM.evalMetric, x0=[1,1], method='BFGS', jac=True)\n",
    "print(solution)"
   ]
  },
  {
   "cell_type": "code",
   "execution_count": 5,
   "metadata": {
    "scrolled": true
   },
   "outputs": [
    {
     "data": {
      "image/png": "[encoded data removed]",
      "text/plain": [
       "<matplotlib.figure.Figure at 0x7f66a19bfa90>"
      ]
     },
     "metadata": {},
     "output_type": "display_data"
    }
   ],
   "source": [
    "(x1, y1), (x2, y2), CDFs = theHM.getHorsetail()\n",
    "\n",
    "for (x, y) in CDFs:\n",
    "    plt.plot(x, y, c='grey', lw=0.5)\n",
    "plt.plot(x1, y1, 'r')\n",
    "plt.plot([theHM.ftarget(y) for y in y1], y1, 'k--')\n",
    "plt.xlim([-1, 5])\n",
    "plt.ylim([0, 1])\n",
    "plt.xlabel('Quantity of Interest')\n",
    "plt.show()"
   ]
  },
  {
   "cell_type": "markdown",
   "metadata": {},
   "source": [
    "Once again the optimizer has found the optimum at x=[0,0], but this time in fewer iterations. \n",
    "\n",
    "We can also use gradients for optimization under mixed uncertainties in exactly the same way. The example below performs the optimization of TP2 like in the mixed uncertainties tutorial, but this time using gradients. Note that we turn on the verbosity so we can see what the horsetail matching object is doing at each design point. "
   ]
  },
  {
   "cell_type": "code",
   "execution_count": 6,
   "metadata": {
    "collapsed": true
   },
   "outputs": [],
   "source": [
    "def fun_qjac(x, u):\n",
    "    return TP2(x, u, jac=True)  # Returns both qoi and its gradient\n",
    "\n",
    "u1 = IntervalParameter()\n",
    "u2 = UniformParameter()\n",
    "input_uncertainties = [u1, u2]\n",
    "\n",
    "theHM = HorsetailMatching(fun_qjac, input_uncertainties, jac=True, method='kernel',\n",
    "                          samples_prob=500, samples_int=50, integration_points=numpy.linspace(-20, 20, 1000),\n",
    "                          verbose=True)"
   ]
  },
  {
   "cell_type": "code",
   "execution_count": 7,
   "metadata": {},
   "outputs": [
    {
     "name": "stdout",
     "output_type": "stream",
     "text": [
      "----------\n",
      "At design: [1 1]\n",
      "Evaluating surrogate\n",
      "Getting uncertain parameter samples\n",
      "Evaluating quantity of interest at samples\n",
      "Evaluating metric\n",
      "Metric: 14.177350455\n",
      "Gradient: [0.017266350486512577, 0.38247125968532708]\n",
      "----------\n",
      "At design: [1 1]\n",
      "Evaluating surrogate\n",
      "Re-using stored samples\n",
      "Evaluating quantity of interest at samples\n",
      "Evaluating metric\n",
      "Metric: 14.177350455\n",
      "Gradient: [0.017266350486512577, 0.38247125968532708]\n",
      "----------\n",
      "At design: [ 0.98273365  0.61752874]\n",
      "Evaluating surrogate\n",
      "Re-using stored samples\n",
      "Evaluating quantity of interest at samples\n",
      "Evaluating metric\n",
      "Metric: 14.0301195816\n",
      "Gradient: [0.017286363832407153, 0.38324229191453635]\n",
      "----------\n",
      "At design: [ 0.91366825 -0.9123563 ]\n",
      "Evaluating surrogate\n",
      "Re-using stored samples\n",
      "Evaluating quantity of interest at samples\n",
      "Evaluating metric\n",
      "Metric: 13.4672336982\n",
      "Gradient: [0.015950880481935003, 0.35364671265659886]\n",
      "----------\n",
      "At design: [ 0.63740664 -7.03189645]\n",
      "Evaluating surrogate\n",
      "Re-using stored samples\n",
      "Evaluating quantity of interest at samples\n",
      "Evaluating metric\n",
      "Metric: 11.6210354548\n",
      "Gradient: [0.011110289896926489, 0.24666035165770417]\n",
      "----------\n",
      "At design: [ -2.10582769e-02  -2.16192768e+01]\n",
      "Evaluating surrogate\n",
      "Re-using stored samples\n",
      "Evaluating quantity of interest at samples\n",
      "Evaluating metric\n",
      "Metric: 9.86814132012\n",
      "Gradient: [-0.00037828847073743407, -0.0078387694719526755]\n",
      "----------\n",
      "At design: [ -7.49819703e-04  -2.11699122e+01]\n",
      "Evaluating surrogate\n",
      "Re-using stored samples\n",
      "Evaluating quantity of interest at samples\n",
      "Evaluating metric\n",
      "Metric: 9.86612954093\n",
      "Gradient: [-1.3411134561905361e-05, -0.0010875588791090325]\n",
      "----------\n",
      "At design: [  2.47029753e-03  -2.10976574e+01]\n",
      "Evaluating surrogate\n",
      "Re-using stored samples\n",
      "Evaluating quantity of interest at samples\n",
      "Evaluating metric\n",
      "Metric: 9.86609105723\n",
      "Gradient: [4.4140332517253364e-05, 2.5105664007787269e-05]\n",
      "----------\n",
      "At design: [  2.34939709e-03  -2.10994092e+01]\n",
      "Evaluating surrogate\n",
      "Re-using stored samples\n",
      "Evaluating quantity of interest at samples\n",
      "Evaluating metric\n",
      "Metric: 9.86609103197\n",
      "Gradient: [4.1981001339808584e-05, -2.2004519013827122e-06]\n",
      "----------\n",
      "At design: [  2.30282617e-03  -2.10994502e+01]\n",
      "Evaluating surrogate\n",
      "Re-using stored samples\n",
      "Evaluating quantity of interest at samples\n",
      "Evaluating metric\n",
      "Metric: 9.86609103014\n",
      "Gradient: [4.1148855321896391e-05, -2.8396182598905147e-06]\n",
      "----------\n",
      "At design: [  2.11654250e-03  -2.10996143e+01]\n",
      "Evaluating surrogate\n",
      "Re-using stored samples\n",
      "Evaluating quantity of interest at samples\n",
      "Evaluating metric\n",
      "Metric: 9.86609102346\n",
      "Gradient: [3.782026225036092e-05, -5.3961786409924665e-06]\n",
      "----------\n",
      "At design: [  1.65098538e-03  -2.10996911e+01]\n",
      "Evaluating surrogate\n",
      "Re-using stored samples\n",
      "Evaluating quantity of interest at samples\n",
      "Evaluating metric\n",
      "Metric: 9.86609100825\n",
      "Gradient: [2.9501303692245553e-05, -6.592388822736674e-06]\n",
      "----------\n",
      "At design: [  6.35854132e-04  -2.10995732e+01]\n",
      "Evaluating surrogate\n",
      "Re-using stored samples\n",
      "Evaluating quantity of interest at samples\n",
      "Evaluating metric\n",
      "Metric: 9.86609098684\n",
      "Gradient: [1.1362000479481908e-05, -4.7545186893039462e-06]\n",
      "----------\n",
      "At design: [ -7.48002565e-06  -2.10993419e+01]\n",
      "Evaluating surrogate\n",
      "Re-using stored samples\n",
      "Evaluating quantity of interest at samples\n",
      "Evaluating metric\n",
      "Metric: 9.86609098254\n",
      "Gradient: [-1.3365926466650561e-07, -1.1508602023203653e-06]\n",
      "   status: 0\n",
      "  success: True\n",
      "     njev: 13\n",
      "     nfev: 13\n",
      " hess_inv: array([[ 55.75270645,  -2.0763153 ],\n",
      "       [ -2.0763153 ,  43.68210929]])\n",
      "      fun: 9.866090982540019\n",
      "        x: array([ -7.48002565e-06,  -2.10993419e+01])\n",
      "  message: 'Optimization terminated successfully.'\n",
      "      jac: array([ -1.33659265e-07,  -1.15086020e-06])\n"
     ]
    }
   ],
   "source": [
    "solution = minimize(theHM.evalMetric, x0=[1, 1], method='BFGS', jac=True)\n",
    "print(solution)"
   ]
  },
  {
   "cell_type": "markdown",
   "metadata": {},
   "source": [
    "To plot the optimum solution..."
   ]
  },
  {
   "cell_type": "code",
   "execution_count": 13,
   "metadata": {},
   "outputs": [
    {
     "data": {
      "image/png": "[encoded data removed]",
      "text/plain": [
       "<matplotlib.figure.Figure at 0x7f66a13154d0>"
      ]
     },
     "metadata": {},
     "output_type": "display_data"
    }
   ],
   "source": [
    "upper, lower, CDFs = theHM.getHorsetail()\n",
    "\n",
    "for CDF in CDFs:\n",
    "    plt.plot(CDF[0], CDF[1], c='grey', lw=0.05)\n",
    "plt.plot(upper[0], upper[1], 'r')\n",
    "plt.plot(lower[0], lower[1], 'r')\n",
    "plt.plot([theHM.ftarget(y) for y in upper[1]], upper[1], 'k--')\n",
    "plt.xlim([0, 15])\n",
    "plt.ylim([0, 1])\n",
    "plt.xlabel('Quantity of Interest')\n",
    "plt.show()"
   ]
  },
  {
   "cell_type": "markdown",
   "metadata": {
    "collapsed": true
   },
   "source": [
    "We can see that using gradients we found the minimum after visiting about an order of magnitude fewer design points than were required without using gradients in the mixed uncertainties tutorial.\n",
    "\n",
    "This concludes our illustration of using horsetail matching with gradients. In the next tutorial we illustrate how we can change the target to specify preferences about the desired behavior under uncertainty: http://nbviewer.jupyter.org/github/lwcook/horsetail-matching/blob/master/notebooks/Targets.ipynb\n",
    "\n",
    "For other tutorials, please visit http://www-edc.eng.cam.ac.uk/aerotools/horsetailmatching/"
   ]
  },
  {
   "cell_type": "code",
   "execution_count": null,
   "metadata": {
    "collapsed": true
   },
   "outputs": [],
   "source": []
  }
 ],
 "metadata": {
  "kernelspec": {
   "display_name": "Python 2",
   "language": "python",
   "name": "python2"
  },
  "language_info": {
   "codemirror_mode": {
    "name": "ipython",
    "version": 2
   },
   "file_extension": ".py",
   "mimetype": "text/x-python",
   "name": "python",
   "nbconvert_exporter": "python",
   "pygments_lexer": "ipython2",
   "version": "2.7.6"
  }
 },
 "nbformat": 4,
 "nbformat_minor": 2
}
