{
 "cells": [
  {
   "cell_type": "markdown",
   "metadata": {},
   "source": [
    "In this notebook we look at how to use the gradient of the horsetail matching metric to speed up optimizations."
   ]
  },
  {
   "cell_type": "code",
   "execution_count": 9,
   "metadata": {
    "collapsed": true
   },
   "outputs": [],
   "source": [
    "import numpy\n",
    "import matplotlib.pyplot as plt\n",
    "\n",
    "from horsetailmatching import UncertainParameter, HorsetailMatching\n",
    "from horsetailmatching.demoproblems import TP1, TP2"
   ]
  },
  {
   "cell_type": "markdown",
   "metadata": {},
   "source": [
    "First we will look at the purely probabilistic case and a simple test problem. We set up the uncertain parameters and create the horsetail matching object as usual. Note that in order to propagate gradients, we must use the kernel based method of evaluating the horsetail matching metric. "
   ]
  },
  {
   "cell_type": "code",
   "execution_count": 10,
   "metadata": {
    "collapsed": true
   },
   "outputs": [],
   "source": [
    "u1 = UncertainParameter('uniform', lower_bound=-1, upper_bound=1)\n",
    "u2 = UncertainParameter('uniform', lower_bound=-1, upper_bound=1)\n",
    "input_uncertainties = [u1, u2]"
   ]
  },
  {
   "cell_type": "markdown",
   "metadata": {},
   "source": [
    "Horsetail matching uses the same syntax for specifying a gradient as the scipy.minimize function, through the 'jac' argument. If 'jac' is True, then horsetail matching expects the qoi function to also return the jacobian of the qoi (the gradient with respect to the design variables). Alternatively 'jac' is a fuction that similarly to the qoi function takes two inputs (the values of the design variables and uncertainties), and returns the gradient. The following code demonstrates these alternatives:"
   ]
  },
  {
   "cell_type": "code",
   "execution_count": 17,
   "metadata": {},
   "outputs": [
    {
     "name": "stdout",
     "output_type": "stream",
     "text": [
      "(0.5804964838897805, array([ 0.40472863,  0.40472863]))\n"
     ]
    }
   ],
   "source": [
    "fun_qjac = lambda x, u: TP1(x, u, jac=True)  # Returns both qoi and its gradient\n",
    "fun_q = lambda x, u: TP1(x, u, jac=False)  # Returns just the qoi\n",
    "fun_jac = lambda x, u: TP1(x, u, jac=True)[1]  # Returns just the gradient\n",
    "\n",
    "theHM = HorsetailMatching(fun_qjac, input_uncertainties, jac=True, method='kernel', kernel_bandwidth=0.001,\n",
    "                          samples_prob=2000, integration_points=numpy.linspace(-1, 5, 500))\n",
    "\n",
    "theHM = HorsetailMatching(fun_q, input_uncertainties, jac=fun_jac, method='kernel', kernel_bandwidth=0.001,\n",
    "                          samples_prob=2000, integration_points=numpy.linspace(-1, 5, 500))\n",
    "\n",
    "print(theHM.evalMetric([1,1]))"
   ]
  },
  {
   "cell_type": "markdown",
   "metadata": {},
   "source": [
    "Now we can use this in a gradient based optimizer:"
   ]
  },
  {
   "cell_type": "code",
   "execution_count": 18,
   "metadata": {},
   "outputs": [
    {
     "name": "stdout",
     "output_type": "stream",
     "text": [
      "   status: 0\n",
      "  success: True\n",
      "     njev: 9\n",
      "     nfev: 9\n",
      " hess_inv: array([[ 16.21648913,  15.21648913],\n",
      "       [ 15.21648913,  16.21648913]])\n",
      "      fun: 0.010253277219761107\n",
      "        x: array([-0.0723969, -0.0723969])\n",
      "  message: 'Optimization terminated successfully.'\n",
      "      jac: array([  8.76890404e-06,   8.76890404e-06])\n"
     ]
    }
   ],
   "source": [
    "from scipy.optimize import minimize\n",
    "\n",
    "solution = minimize(theHM.evalMetric, x0=[1,1], method='BFGS', jac=True)\n",
    "print(solution)"
   ]
  },
  {
   "cell_type": "code",
   "execution_count": 19,
   "metadata": {},
   "outputs": [
    {
     "data": {
      "image/png": "[encoded data removed]",
      "text/plain": [
       "<matplotlib.figure.Figure at 0x7fcca44e7a50>"
      ]
     },
     "metadata": {},
     "output_type": "display_data"
    }
   ],
   "source": [
    "(x1, y1), (x2, y2), CDFs = theHM.getHorsetail()\n",
    "\n",
    "for (x, y) in CDFs:\n",
    "    plt.plot(x, y, c='grey', lw=0.5)\n",
    "plt.plot(x1, y1, 'r')\n",
    "plt.plot([theHM.ftarget(y) for y in y1], y1, 'k--')\n",
    "plt.xlim([-1, 5])\n",
    "plt.show()"
   ]
  },
  {
   "cell_type": "markdown",
   "metadata": {},
   "source": [
    "Once again the optimizer has found the optimum at x=[0,0], but this time in much fewer iterations. This concludes our illustration of using horsetail matching with gradients. For other tutorials, please visit http://www-edc.eng.cam.ac.uk/aerotools/horsetailmatching/"
   ]
  },
  {
   "cell_type": "code",
   "execution_count": null,
   "metadata": {
    "collapsed": true
   },
   "outputs": [],
   "source": []
  }
 ],
 "metadata": {
  "kernelspec": {
   "display_name": "Python 2",
   "language": "python",
   "name": "python2"
  },
  "language_info": {
   "codemirror_mode": {
    "name": "ipython",
    "version": 2
   },
   "file_extension": ".py",
   "mimetype": "text/x-python",
   "name": "python",
   "nbconvert_exporter": "python",
   "pygments_lexer": "ipython2",
   "version": "2.7.6"
  }
 },
 "nbformat": 4,
 "nbformat_minor": 2
}
