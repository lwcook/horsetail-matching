{
 "cells": [
  {
   "cell_type": "markdown",
   "metadata": {},
   "source": [
    "In this notebook we look at how to use the gradient of the horsetail matching metric to speed up optimizations (in terms of number of evaluations of the quantity of interest)."
   ]
  },
  {
   "cell_type": "code",
   "execution_count": 1,
   "metadata": {
    "collapsed": true
   },
   "outputs": [],
   "source": [
    "import numpy\n",
    "import matplotlib.pyplot as plt\n",
    "\n",
    "from horsetailmatching import UniformParameter, IntervalParameter, HorsetailMatching\n",
    "from horsetailmatching.demoproblems import TP1, TP2"
   ]
  },
  {
   "cell_type": "markdown",
   "metadata": {},
   "source": [
    "First we will look at the purely probabilistic case and a simple test problem. We set up the uncertain parameters and create the horsetail matching object as usual."
   ]
  },
  {
   "cell_type": "code",
   "execution_count": 2,
   "metadata": {
    "collapsed": true
   },
   "outputs": [],
   "source": [
    "u1 = UniformParameter(lower_bound=-1, upper_bound=1)\n",
    "u2 = UniformParameter(lower_bound=-1, upper_bound=1)\n",
    "input_uncertainties = [u1, u2]"
   ]
  },
  {
   "cell_type": "markdown",
   "metadata": {},
   "source": [
    "Horsetail matching uses the same syntax for specifying a gradient as the scipy.minimize function: through the 'jac' argument. If 'jac' is True, then horsetail matching expects the qoi function to also return the jacobian of the qoi (the gradient with respect to the design variables). Alternatively 'jac' is a fuction that takes two inputs (the values of the design variables and uncertainties), and returns the gradient. The following code demonstrates these alternatives:"
   ]
  },
  {
   "cell_type": "code",
   "execution_count": 3,
   "metadata": {},
   "outputs": [
    {
     "name": "stdout",
     "output_type": "stream",
     "text": [
      "(0.5660927168329217, array([0.56609272, 0.56609272]))\n"
     ]
    }
   ],
   "source": [
    "def fun_qjac(x, u):\n",
    "    return TP1(x, u, jac=True)  # Returns both qoi and its gradient\n",
    "\n",
    "def fun_q(x, u): \n",
    "    return TP1(x, u, jac=False)  # Returns just the qoi\n",
    "\n",
    "def fun_jac(x, u):\n",
    "    return TP1(x, u, jac=True)[1]  # Returns just the gradient\n",
    "\n",
    "theHM = HorsetailMatching(fun_qjac, input_uncertainties, jac=True, method='kernel', kernel_bandwidth=0.001,\n",
    "                          samples_prob=2000, integration_points=numpy.linspace(-10, 100, 5000))\n",
    "\n",
    "theHM = HorsetailMatching(fun_q, input_uncertainties, jac=fun_jac, method='empirical', samples_prob=2000)\n",
    "\n",
    "print(theHM.evalMetric([1,1]))"
   ]
  },
  {
   "cell_type": "markdown",
   "metadata": {},
   "source": [
    "The gradient can be evaluated using either the 'empirical' or 'kernel' based methods, however the 'empirical' method can sometimes give discontinuous gradients and so in general the 'kernel' based method is preferred.\n",
    "\n",
    "Note that when we are using kernels to evaluate the horsetail plot (with the method 'kernel'), it is important to provide integration points that cover the range of values of q that designs visited in the optimization might reach. Integrations points far beyond the range of samples are not evaluated and so this range can be made to be large without taking a computational penalty.\n",
    "Additionally, here we specified the kernel_bandwidth which is fixed throughout an optimization. If this is not specified, Scott's rule is used on the samples from the initial design to determine the bandwidth. \n",
    "\n",
    "Now we can use this in a gradient based optimizer:"
   ]
  },
  {
   "cell_type": "code",
   "execution_count": 4,
   "metadata": {},
   "outputs": [
    {
     "name": "stdout",
     "output_type": "stream",
     "text": [
      "   status: 0\n",
      "  success: True\n",
      "     njev: 3\n",
      "     nfev: 3\n",
      " hess_inv: array([[1.38324754, 0.38324754],\n",
      "       [0.38324754, 1.38324754]])\n",
      "      fun: 2.511947323349104e-31\n",
      "        x: array([-6.66133815e-16, -6.66133815e-16])\n",
      "  message: 'Optimization terminated successfully.'\n",
      "      jac: array([-3.77093501e-16, -3.77093501e-16])\n"
     ]
    }
   ],
   "source": [
    "from scipy.optimize import minimize\n",
    "\n",
    "solution = minimize(theHM.evalMetric, x0=[1,1], method='BFGS', jac=True)\n",
    "print(solution)"
   ]
  },
  {
   "cell_type": "code",
   "execution_count": 5,
   "metadata": {
    "scrolled": true
   },
   "outputs": [
    {
     "data": {
      "image/png": "[encoded data removed]",
      "text/plain": [
       "<matplotlib.figure.Figure at 0x7f0c3ca98d10>"
      ]
     },
     "metadata": {},
     "output_type": "display_data"
    }
   ],
   "source": [
    "(x1, y1, t1), (x2, y2, t2), CDFs = theHM.getHorsetail()\n",
    "\n",
    "for (x, y) in CDFs:\n",
    "    plt.plot(x, y, c='grey', lw=0.5)\n",
    "plt.plot(x1, y1, 'r')\n",
    "plt.plot(t1, y1, 'k--')\n",
    "plt.xlim([-1, 5])\n",
    "plt.ylim([0, 1])\n",
    "plt.xlabel('Quantity of Interest')\n",
    "plt.show()"
   ]
  },
  {
   "cell_type": "markdown",
   "metadata": {},
   "source": [
    "Once again the optimizer has found the optimum where the CDF is a step function, but this time in fewer iterations. \n",
    "\n",
    "We can also use gradients for optimization under mixed uncertainties in exactly the same way. The example below performs the optimization of TP2 like in the mixed uncertainties tutorial, but this time using gradients. Note that we turn on the verbosity so we can see what the horsetail matching object is doing at each design point. "
   ]
  },
  {
   "cell_type": "code",
   "execution_count": 8,
   "metadata": {
    "collapsed": true
   },
   "outputs": [],
   "source": [
    "def fun_qjac(x, u):\n",
    "    return TP2(x, u, jac=True)  # Returns both qoi and its gradient\n",
    "\n",
    "u1 = UniformParameter()\n",
    "u2 = IntervalParameter()\n",
    "\n",
    "theHM = HorsetailMatching(fun_qjac, u1, u2, jac=True, method='kernel',\n",
    "                          samples_prob=500, samples_int=50, integration_points=numpy.linspace(-20, 100, 3000),\n",
    "                          verbose=True)"
   ]
  },
  {
   "cell_type": "code",
   "execution_count": 9,
   "metadata": {},
   "outputs": [
    {
     "name": "stdout",
     "output_type": "stream",
     "text": [
      "----------\n",
      "At design: [1 1]\n",
      "Evaluating surrogate\n",
      "Getting uncertain parameter samples\n",
      "Evaluating quantity of interest at samples\n",
      "Evaluating metric\n",
      "Metric: 14.202468068\n",
      "Gradient: [0.017510992821455792, 0.3901026587041186]\n",
      "----------\n",
      "At design: [1 1]\n",
      "Evaluating surrogate\n",
      "Re-using stored samples\n",
      "Evaluating quantity of interest at samples\n",
      "Evaluating metric\n",
      "Metric: 14.202468068\n",
      "Gradient: [0.017510992821455792, 0.3901026587041186]\n",
      "----------\n",
      "At design: [0.98248901 0.60989734]\n",
      "Evaluating surrogate\n",
      "Re-using stored samples\n",
      "Evaluating quantity of interest at samples\n",
      "Evaluating metric\n",
      "Metric: 14.0516455442\n",
      "Gradient: [0.017145712348092677, 0.3819031893046833]\n",
      "----------\n",
      "At design: [ 0.91244504 -0.95051329]\n",
      "Evaluating surrogate\n",
      "Re-using stored samples\n",
      "Evaluating quantity of interest at samples\n",
      "Evaluating metric\n",
      "Metric: 13.4749679035\n",
      "Gradient: [0.01596868398395644, 0.35565950244702904]\n",
      "----------\n",
      "At design: [ 0.63226915 -7.19215583]\n",
      "Evaluating surrogate\n",
      "Re-using stored samples\n",
      "Evaluating quantity of interest at samples\n",
      "Evaluating metric\n",
      "Metric: 11.591854656\n",
      "Gradient: [0.01106118701305242, 0.24624549661682993]\n",
      "----------\n",
      "At design: [ 2.78781928e-03 -2.12150168e+01]\n",
      "Evaluating surrogate\n",
      "Re-using stored samples\n",
      "Evaluating quantity of interest at samples\n",
      "Evaluating metric\n",
      "Metric: 9.855127394\n",
      "Gradient: [4.9952812818690364e-05, -0.0005330012853724196]\n",
      "----------\n",
      "At design: [ 4.06538133e-03 -2.11849142e+01]\n",
      "Evaluating surrogate\n",
      "Re-using stored samples\n",
      "Evaluating quantity of interest at samples\n",
      "Evaluating metric\n",
      "Metric: 9.85511984357\n",
      "Gradient: [7.274966578086615e-05, 2.4514220473671386e-05]\n",
      "----------\n",
      "At design: [ 3.93058911e-03 -2.11863990e+01]\n",
      "Evaluating surrogate\n",
      "Re-using stored samples\n",
      "Evaluating quantity of interest at samples\n",
      "Evaluating metric\n",
      "Metric: 9.85511981777\n",
      "Gradient: [7.034188054705272e-05, -2.7556598633910907e-06]\n",
      "----------\n",
      "At design: [ 3.83414918e-03 -2.11865881e+01]\n",
      "Evaluating surrogate\n",
      "Re-using stored samples\n",
      "Evaluating quantity of interest at samples\n",
      "Evaluating metric\n",
      "Metric: 9.85511981192\n",
      "Gradient: [6.861652716787448e-05, -6.2307039486448486e-06]\n",
      "----------\n",
      "At design: [ 3.64669576e-03 -2.11867557e+01]\n",
      "Evaluating surrogate\n",
      "Re-using stored samples\n",
      "Evaluating quantity of interest at samples\n",
      "Evaluating metric\n",
      "Metric: 9.85511980068\n",
      "Gradient: [6.526228449913981e-05, -9.309472115573493e-06]\n",
      "----------\n",
      "At design: [ 2.89688212e-03 -2.11874259e+01]\n",
      "Evaluating surrogate\n",
      "Re-using stored samples\n",
      "Evaluating quantity of interest at samples\n",
      "Evaluating metric\n",
      "Metric: 9.85511976714\n",
      "Gradient: [5.184485081325687e-05, -2.1627803374755424e-05]\n",
      "----------\n",
      "At design: [ 1.39968123e-03 -2.11877742e+01]\n",
      "Evaluating surrogate\n",
      "Re-using stored samples\n",
      "Evaluating quantity of interest at samples\n",
      "Evaluating metric\n",
      "Metric: 9.85511971822\n",
      "Gradient: [2.5050143546408886e-05, -2.802823228964567e-05]\n",
      "----------\n",
      "At design: [ 2.36482210e-04 -2.11872394e+01]\n",
      "Evaluating surrogate\n",
      "Re-using stored samples\n",
      "Evaluating quantity of interest at samples\n",
      "Evaluating metric\n",
      "Metric: 9.85511968883\n",
      "Gradient: [4.232236257139145e-06, -1.8195381099171522e-05]\n",
      "----------\n",
      "At design: [-1.19008920e-04 -2.11865018e+01]\n",
      "Evaluating surrogate\n",
      "Re-using stored samples\n",
      "Evaluating quantity of interest at samples\n",
      "Evaluating metric\n",
      "Metric: 9.85511968004\n",
      "Gradient: [-2.1297943007482363e-06, -4.639094793501692e-06]\n",
      "   status: 0\n",
      "  success: True\n",
      "     njev: 13\n",
      "     nfev: 13\n",
      " hess_inv: array([[52.40414674, -7.34826049],\n",
      "       [-7.34826049, 38.82846752]])\n",
      "      fun: 9.855119680037081\n",
      "        x: array([-1.19008920e-04, -2.11865018e+01])\n",
      "  message: 'Optimization terminated successfully.'\n",
      "      jac: array([-2.12979430e-06, -4.63909479e-06])\n"
     ]
    }
   ],
   "source": [
    "solution = minimize(theHM.evalMetric, x0=[1, 1], method='BFGS', jac=True)\n",
    "print(solution)"
   ]
  },
  {
   "cell_type": "markdown",
   "metadata": {},
   "source": [
    "To plot the optimum solution..."
   ]
  },
  {
   "cell_type": "code",
   "execution_count": 10,
   "metadata": {},
   "outputs": [
    {
     "data": {
      "image/png": "[encoded data removed]",
      "text/plain": [
       "<matplotlib.figure.Figure at 0x7f0c3d1b8f50>"
      ]
     },
     "metadata": {},
     "output_type": "display_data"
    }
   ],
   "source": [
    "upper, lower, CDFs = theHM.getHorsetail()\n",
    "(q1, h1, t1) = upper\n",
    "(q2, h2, t2) = lower\n",
    "\n",
    "for CDF in CDFs:\n",
    "    plt.plot(CDF[0], CDF[1], c='grey', lw=0.05)\n",
    "plt.plot(q1, h1, 'r')\n",
    "plt.plot(q2, h2, 'r')\n",
    "plt.plot(t1, h1, 'k--')\n",
    "plt.plot(t2, h2, 'k--')\n",
    "plt.xlim([0, 15])\n",
    "plt.ylim([0, 1])\n",
    "plt.xlabel('Quantity of Interest')\n",
    "plt.show()"
   ]
  },
  {
   "cell_type": "markdown",
   "metadata": {
    "collapsed": true
   },
   "source": [
    "We can see that using gradients we found the minimum after visiting about an order of magnitude fewer design points than were required without using gradients in the mixed uncertainties tutorial.\n",
    "\n",
    "This concludes our illustration of using horsetail matching with gradients. In the next tutorial we illustrate how we can change the target to specify preferences about the desired behavior under uncertainty: http://nbviewer.jupyter.org/github/lwcook/horsetail-matching/blob/master/notebooks/Targets.ipynb\n",
    "\n",
    "For other tutorials, please visit http://www-edc.eng.cam.ac.uk/aerotools/horsetailmatching/"
   ]
  },
  {
   "cell_type": "code",
   "execution_count": null,
   "metadata": {
    "collapsed": true
   },
   "outputs": [],
   "source": []
  }
 ],
 "metadata": {
  "kernelspec": {
   "display_name": "Python 2",
   "language": "python",
   "name": "python2"
  },
  "language_info": {
   "codemirror_mode": {
    "name": "ipython",
    "version": 2
   },
   "file_extension": ".py",
   "mimetype": "text/x-python",
   "name": "python",
   "nbconvert_exporter": "python",
   "pygments_lexer": "ipython2",
   "version": "2.7.6"
  }
 },
 "nbformat": 4,
 "nbformat_minor": 2
}
