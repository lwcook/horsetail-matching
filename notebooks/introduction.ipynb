{
 "cells": [
  {
   "cell_type": "markdown",
   "metadata": {},
   "source": [
    "Welcome to horsetail matching. This tutorial shows you how to setup and run a very simple horsetail matching optimization. This assumes you have followed the installation tutorial. First we import the module..."
   ]
  },
  {
   "cell_type": "code",
   "execution_count": 1,
   "metadata": {
    "collapsed": true
   },
   "outputs": [],
   "source": [
    "from horsetailmatching import ProbabilisticParameter, IntervalParameter, HorsetailMatching\n",
    "from horsetailmatching.demoproblems import TP1"
   ]
  },
  {
   "cell_type": "markdown",
   "metadata": {
    "collapsed": true
   },
   "source": [
    "The first thing required for an optimization under uncertainty is a function to optimize. The horsetail matching python module comes with several test problems, which we will use here. We require a function that takes two arguments: the value of the design variables, and the value of the uncertainties. It should return the value quantity of interest.  "
   ]
  },
  {
   "cell_type": "code",
   "execution_count": 2,
   "metadata": {},
   "outputs": [
    {
     "name": "stdout",
     "output_type": "stream",
     "text": [
      "2.0\n"
     ]
    }
   ],
   "source": [
    "my_function = TP1\n",
    "print TP1([0,1],[1,0])"
   ]
  },
  {
   "cell_type": "markdown",
   "metadata": {
    "collapsed": true
   },
   "source": [
    "Now we must define the input uncertainties to the problem. These are created as horsetail matching parameters, which have the method evalPDF which allows the horsetail matching object to sample them accordingly. Here we create a uniformly distributed uncertainty and a gaussian uncertainty."
   ]
  },
  {
   "cell_type": "code",
   "execution_count": 3,
   "metadata": {
    "collapsed": true
   },
   "outputs": [],
   "source": [
    "u1 = ProbabilisticParameter(distribution='uniform', lower_bound=-1, upper_bound=1)\n",
    "u2 = ProbabilisticParameter(distribution='gaussian', mean=0, standard_deviation=1)\n",
    "input_uncertainties = [u1, u2]"
   ]
  },
  {
   "cell_type": "markdown",
   "metadata": {},
   "source": [
    "Now we create the HorsetailMatching object which will do the evalation of the horsetail matching metric and its gradient. By default a standard target of t(h) = 0 is used. In this initialization we can also specify details such as how many samples to take to estimate the CDF, which we set to 1000, and the method we want horsetail matching to use to estimate the CDF, which we set to 'empirical' (meaning use the empirical CDF). "
   ]
  },
  {
   "cell_type": "code",
   "execution_count": 4,
   "metadata": {},
   "outputs": [],
   "source": [
    "theHM = HorsetailMatching(uparams=input_uncertainties, fqoi=my_function, n_samples_prob=1000, method='empirical')"
   ]
  },
  {
   "cell_type": "markdown",
   "metadata": {
    "scrolled": true
   },
   "source": [
    "Then we use this objects methods to evaluate the horsetail matching metric at a given design point. We can also specify how we evaluate the metric using the 'method' argument. Here we use the empirical CDF which we asked for when creating the instance, and compare it to when using gaussian kernels:"
   ]
  },
  {
   "cell_type": "code",
   "execution_count": 6,
   "metadata": {},
   "outputs": [
    {
     "name": "stdout",
     "output_type": "stream",
     "text": [
      "Empirical: 1.41421356237, Kernel: 1.41421356237, Difference: 0.0\n"
     ]
    }
   ],
   "source": [
    "ansEmpirical = theHM.evalMetric(x=[1,1])\n",
    "ansKernel = theHM.evalMetric(x=[1,1], method='kernel')\n",
    "\n",
    "print('Empirical: {0}, Kernel: {1}, Difference: {2}'.format(ansEmpirical, ansKernel, abs(ansEmpirical-ansKernel)))"
   ]
  },
  {
   "cell_type": "markdown",
   "metadata": {
    "collapsed": true
   },
   "source": [
    "Now if we want to use this within an optimization, its a simple as passing theHM.evalMetric"
   ]
  }
 ],
 "metadata": {
  "kernelspec": {
   "display_name": "Python 2",
   "language": "python",
   "name": "python2"
  },
  "language_info": {
   "codemirror_mode": {
    "name": "ipython",
    "version": 2
   },
   "file_extension": ".py",
   "mimetype": "text/x-python",
   "name": "python",
   "nbconvert_exporter": "python",
   "pygments_lexer": "ipython2",
   "version": "2.7.6"
  }
 },
 "nbformat": 4,
 "nbformat_minor": 2
}
