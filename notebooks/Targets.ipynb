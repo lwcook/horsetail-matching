{
 "cells": [
  {
   "cell_type": "markdown",
   "metadata": {},
   "source": [
    "In this tutorial we examine the effect of changing the target(s) on the results a horsetail matching optimization. \n",
    "We'll use TP3 from the demo problems. We also define a function for easy plotting using matplotlib."
   ]
  },
  {
   "cell_type": "code",
   "execution_count": 1,
   "metadata": {
    "collapsed": true
   },
   "outputs": [],
   "source": [
    "from horsetailmatching import HorsetailMatching, GaussianParameter\n",
    "from horsetailmatching.demoproblems import TP3\n",
    "\n",
    "from scipy.optimize import minimize\n",
    "import numpy as np\n",
    "import matplotlib.pyplot as plt\n",
    "\n",
    "def plotHorsetail(theHM, c='b', label=''):\n",
    "    (x, y), _, _ = theHM.getHorsetail()\n",
    "    plt.plot(x, y, c=c, label=label)\n",
    "    plt.plot([theHM.ftarget(yi) for yi in y], y, c=c, linestyle='dashed')\n",
    "    plt.xlim([-10, 10])"
   ]
  },
  {
   "cell_type": "markdown",
   "metadata": {},
   "source": [
    "In the following code we setup a horsetail matching optimization using test problem 3, and then run optimizations under three targets: a standard target, a risk averse target, and a very risk averse target. "
   ]
  },
  {
   "cell_type": "code",
   "execution_count": 2,
   "metadata": {},
   "outputs": [
    {
     "name": "stdout",
     "output_type": "stream",
     "text": [
      "  status: 1\n",
      "    nfev: 22\n",
      "   maxcv: 0.0\n",
      " success: True\n",
      "     fun: 3.3649440430780397\n",
      "       x: array(0.508647265625)\n",
      " message: 'Optimization terminated successfully.'\n",
      "  status: 1\n",
      "    nfev: 23\n",
      "   maxcv: 0.0\n",
      " success: True\n",
      "     fun: 4.7362883474858481\n",
      "       x: array(0.83125703125)\n",
      " message: 'Optimization terminated successfully.'\n",
      "  status: 1\n",
      "    nfev: 23\n",
      "   maxcv: 0.0\n",
      " success: True\n",
      "     fun: 4.5292374176358363\n",
      "       x: array(0.9078171875)\n",
      " message: 'Optimization terminated successfully.'\n"
     ]
    },
    {
     "data": {
      "image/png": "[encoded data removed]",
      "text/plain": [
       "<matplotlib.figure.Figure at 0x7ff68acc2350>"
      ]
     },
     "metadata": {},
     "output_type": "display_data"
    }
   ],
   "source": [
    "u1 = GaussianParameter()\n",
    "\n",
    "def standardTarget(h):\n",
    "    return 0.\n",
    "\n",
    "theHM = HorsetailMatching(TP3, u1, ftarget=standardTarget, samples_prob=5000)\n",
    "solution1 = minimize(theHM.evalMetric, x0=0.6, method='COBYLA',\n",
    "        constraints=[{'type': 'ineq', 'fun': lambda x: x}, {'type': 'ineq', 'fun': lambda x: 1-x}])\n",
    "theHM.evalMetric(solution1.x)\n",
    "print(solution1)\n",
    "plotHorsetail(theHM, c='b', label='Standard')\n",
    "\n",
    "def riskAverseTarget(h):\n",
    "    return 0. - 3.*h**3.\n",
    "\n",
    "theHM.ftarget=riskAverseTarget\n",
    "solution2 = minimize(theHM.evalMetric, x0=0.6, method='COBYLA',\n",
    "        constraints=[{'type': 'ineq', 'fun': lambda x: x}, {'type': 'ineq', 'fun': lambda x: 1-x}])\n",
    "theHM.evalMetric(solution2.x)\n",
    "print(solution2)\n",
    "plotHorsetail(theHM, c='g', label='Risk Averse')\n",
    "\n",
    "def veryRiskAverseTarget(h):\n",
    "    return 1. - 10.**h**10.\n",
    "\n",
    "theHM.ftarget=veryRiskAverseTarget\n",
    "solution3 = minimize(theHM.evalMetric, x0=0.6, method='COBYLA',\n",
    "        constraints=[{'type': 'ineq', 'fun': lambda x: x}, {'type': 'ineq', 'fun': lambda x: 1-x}])\n",
    "theHM.evalMetric(solution3.x)\n",
    "print(solution3)\n",
    "plotHorsetail(theHM, c='r', label='Very Risk Averse')\n",
    "\n",
    "plt.xlim([-10, 5])\n",
    "plt.ylim([0, 1])\n",
    "plt.xlabel('Quantity of Interest')\n",
    "plt.legend(loc='lower left')\n",
    "plt.plot()\n",
    "plt.show()"
   ]
  },
  {
   "cell_type": "markdown",
   "metadata": {
    "collapsed": true
   },
   "source": [
    "You can see that changing the target has changed how much influence is put on different parts of the CDF in the optimization. The more risk averse the target the more the optimizer will try to minimize the highest values of q over the CDF."
   ]
  },
  {
   "cell_type": "markdown",
   "metadata": {},
   "source": [
    " In the next tutorial we'll illustrate how you can use surrogates within horsetail matching so that if evaluating the quantity of interest is expensive, we can use fewer evaluations: http://nbviewer.jupyter.org/github/lwcook/horsetail-matching/blob/master/notebooks/Surrogates.ipynb\n",
    " \n",
    " For other tutorials, please visit http://www-edc.eng.cam.ac.uk/aerotools/horsetailmatching/"
   ]
  },
  {
   "cell_type": "code",
   "execution_count": null,
   "metadata": {
    "collapsed": true
   },
   "outputs": [],
   "source": []
  }
 ],
 "metadata": {
  "kernelspec": {
   "display_name": "Python 2",
   "language": "python",
   "name": "python2"
  },
  "language_info": {
   "codemirror_mode": {
    "name": "ipython",
    "version": 2
   },
   "file_extension": ".py",
   "mimetype": "text/x-python",
   "name": "python",
   "nbconvert_exporter": "python",
   "pygments_lexer": "ipython2",
   "version": "2.7.6"
  }
 },
 "nbformat": 4,
 "nbformat_minor": 2
}
