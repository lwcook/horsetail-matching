{
 "cells": [
  {
   "cell_type": "markdown",
   "metadata": {},
   "source": [
    "Horsetail matching is a method for optimizing under uncertainty. \n",
    "\n",
    "We are looking to minimize a quantity of interest, q, which is a function of design variables (that we can control), x, and uncertain variables (which are uncontrollable), u. Since u is uncertain, q at a given design x is also uncertain. We therefore need to define some measure of the behaviour of q under uncertainty to minimize instead. With horseail matching this measure is the difference between the bounds on the CDF (the horsetail plot) of q for a given design and targets for these bounds. \n",
    "\n",
    "For further details see the website: http://www-edc.eng.cam.ac.uk/aerotools/horsetailmatching/ which has links to the relevant publications. \n",
    "\n",
    "**This tutorial illustrates how to setup and run a simple horsetail matching optimization.** \n",
    "Note that for clarification on how any of the module works, see the documentation available at: http://www-edc.eng.cam.ac.uk/aerotools/horsetailmatching/documentation/\n",
    "\n",
    "To begin with, we will only consider probabilistic uncertainties. This requires a probability distribution to be assigned to all of our uncertain parameters, and this is propagated to give a probability distribution of our quantity of interest for a given design x. Therefore the horsetail plot is the CDF itself and we are essentially doing CDF matching.\n",
    "\n",
    "Firstly we need to import the functions and classes we will use from the horsetail matching module..."
   ]
  },
  {
   "cell_type": "code",
   "execution_count": 1,
   "metadata": {
    "collapsed": true
   },
   "outputs": [],
   "source": [
    "from horsetailmatching import UncertainParameter, UniformParameter, GaussianParameter, HorsetailMatching\n",
    "from horsetailmatching.demoproblems import TP1"
   ]
  },
  {
   "cell_type": "markdown",
   "metadata": {
    "collapsed": true
   },
   "source": [
    "A horsetail matching object requires a function that takes two arguments: the value of the design variables, and the value of the uncertainties; it should return the value quantity of interest. Here we will use a test problem that comes that is part of the horsetail matching module. In reality, this function is likely to be a computationally expensive simulation, for example a 3D computational fluid dynamics simulation of a wing."
   ]
  },
  {
   "cell_type": "code",
   "execution_count": 2,
   "metadata": {},
   "outputs": [
    {
     "name": "stdout",
     "output_type": "stream",
     "text": [
      "0.1\n"
     ]
    }
   ],
   "source": [
    "my_func = TP1\n",
    "print TP1(x=[0, 1], u=[1, 0])"
   ]
  },
  {
   "cell_type": "markdown",
   "metadata": {
    "collapsed": true
   },
   "source": [
    "Next we must define the input uncertainties to the problem, by creating horsetail matching parameters. We can assign the parameters a distribution by using the base UncertainParameter class and defining a pdf function, or we can use the specific distribution subclasses such as UniformParameter and GaussianParameter. \n",
    "\n",
    "Here we create a uniformly distributed uncertainty and a gaussian uncertainty.\n",
    "\n",
    "Then we create the HorsetailMatching object which will do the evalation of the horsetail matching metric. We can specify the target inverse CDF using the ftarget argument (by default a standard target of t(h) = 0 is used). "
   ]
  },
  {
   "cell_type": "code",
   "execution_count": 3,
   "metadata": {
    "collapsed": true
   },
   "outputs": [],
   "source": [
    "def myPDF(u):\n",
    "    if u > 1 or u < -1:\n",
    "        return 0\n",
    "    else:\n",
    "        return 0.5\n",
    "\n",
    "u_uniform = UncertainParameter(myPDF, lower_bound=-1, upper_bound=1)\n",
    "u_gaussian = GaussianParameter(mean=0, standard_deviation=1)\n",
    "\n",
    "def my_target(h): \n",
    "    return 0\n",
    "\n",
    "theHM = HorsetailMatching(my_func, [u_uniform, u_gaussian], ftarget=my_target)"
   ]
  },
  {
   "cell_type": "markdown",
   "metadata": {},
   "source": [
    "Now we use the evalMetric method to evaluate the horsetail matching metric at a design point:"
   ]
  },
  {
   "cell_type": "code",
   "execution_count": 4,
   "metadata": {},
   "outputs": [
    {
     "name": "stdout",
     "output_type": "stream",
     "text": [
      "1.287969542524348\n"
     ]
    }
   ],
   "source": [
    "print(theHM.evalMetric(x=[1,1]))"
   ]
  },
  {
   "cell_type": "markdown",
   "metadata": {},
   "source": [
    "We can use the getHorsetail() method to visualize the behaviour under uncertainty. It returns plottable lists of values for the two horsetail curves (the upper and lower bounds on the CDF) as the first two returned tuples. In this case the two bounds are coincidental and the horsetail plot is the CDF. \n",
    "\n",
    "We can then plot this using the matplotlib module for plotting in python. "
   ]
  },
  {
   "cell_type": "code",
   "execution_count": 5,
   "metadata": {},
   "outputs": [
    {
     "data": {
      "image/png": "[encoded data removed]",
      "text/plain": [
       "<matplotlib.figure.Figure at 0x7f30e60fa390>"
      ]
     },
     "metadata": {},
     "output_type": "display_data"
    }
   ],
   "source": [
    "import matplotlib.pyplot as plt\n",
    "(x1, y1, t1), (x2, y2, t2), _ = theHM.getHorsetail()\n",
    "plt.plot(x1, y1, 'b', label='CDF')\n",
    "plt.plot(t1, y1, 'k--', label='Target')\n",
    "plt.xlim([-1, 6])\n",
    "plt.xlabel('Quantity of Interest')\n",
    "plt.legend(loc='lower right')\n",
    "plt.show()"
   ]
  },
  {
   "cell_type": "markdown",
   "metadata": {
    "collapsed": true
   },
   "source": [
    "Now if we want to use this within an optimization, its a simple as passing theHM.evalMetric to whichever optimizer we like. For example, using the scipy optimize module's minimize function:"
   ]
  },
  {
   "cell_type": "code",
   "execution_count": 11,
   "metadata": {},
   "outputs": [
    {
     "name": "stdout",
     "output_type": "stream",
     "text": [
      "  status: 0\n",
      "    nfev: 107\n",
      " success: True\n",
      "     fun: 0.0\n",
      "       x: array([-2.46257592,  2.46257594])\n",
      " message: 'Optimization terminated successfully.'\n",
      "     nit: 54\n"
     ]
    }
   ],
   "source": [
    "from scipy.optimize import minimize\n",
    "\n",
    "solution = minimize(theHM.evalMetric, x0=[3,2], method='Nelder-Mead')\n",
    "print(solution)"
   ]
  },
  {
   "cell_type": "code",
   "execution_count": 12,
   "metadata": {},
   "outputs": [
    {
     "data": {
      "image/png": "[encoded data removed]",
      "text/plain": [
       "<matplotlib.figure.Figure at 0x7f30de26b550>"
      ]
     },
     "metadata": {},
     "output_type": "display_data"
    }
   ],
   "source": [
    "(x1, y1, t1), (x2, y2, t2), _ = theHM.getHorsetail()\n",
    "plt.plot(x1, y1, 'b', label='CDF')\n",
    "plt.plot([theHM.ftarget(y) for y in y1], y1, 'k--', label='Target')\n",
    "plt.xlim([-1, 6])\n",
    "plt.xlabel('Quantity of Interest')\n",
    "plt.legend(loc='lower right')\n",
    "plt.show()"
   ]
  },
  {
   "cell_type": "markdown",
   "metadata": {
    "collapsed": true
   },
   "source": [
    "For this simple test problem the minimum is where the CDF is a step function at 0, and so the horsetail matching metric is also 0. "
   ]
  },
  {
   "cell_type": "markdown",
   "metadata": {},
   "source": [
    "This concludes our introduction to horsetail matching. \n",
    "\n",
    "In the next tutorial, we do horsetail matching when not all of our uncertainties can be represented probabilistically: http://nbviewer.jupyter.org/github/lwcook/horsetail-matching/blob/master/notebooks/MixedUncertainties.ipynb\n",
    "\n",
    "For other tutorials, please visit http://www-edc.eng.cam.ac.uk/aerotools/horsetailmatching/"
   ]
  },
  {
   "cell_type": "code",
   "execution_count": null,
   "metadata": {
    "collapsed": true
   },
   "outputs": [],
   "source": []
  }
 ],
 "metadata": {
  "kernelspec": {
   "display_name": "Python 2",
   "language": "python",
   "name": "python2"
  },
  "language_info": {
   "codemirror_mode": {
    "name": "ipython",
    "version": 2
   },
   "file_extension": ".py",
   "mimetype": "text/x-python",
   "name": "python",
   "nbconvert_exporter": "python",
   "pygments_lexer": "ipython2",
   "version": "2.7.6"
  }
 },
 "nbformat": 4,
 "nbformat_minor": 2
}
