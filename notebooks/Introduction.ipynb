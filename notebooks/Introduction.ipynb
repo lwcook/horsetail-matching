{
 "cells": [
  {
   "cell_type": "markdown",
   "metadata": {},
   "source": [
    "Welcome to horsetail matching. This tutorial shows you how to setup and run a very simple horsetail matching optimization. This assumes you have followed the installation tutorial. First we import the module..."
   ]
  },
  {
   "cell_type": "code",
   "execution_count": 1,
   "metadata": {
    "collapsed": true
   },
   "outputs": [],
   "source": [
    "from horsetailmatching import UncertainParameter, HorsetailMatching\n",
    "from horsetailmatching.demoproblems import TP1"
   ]
  },
  {
   "cell_type": "markdown",
   "metadata": {
    "collapsed": true
   },
   "source": [
    "The first thing required for an optimization under uncertainty is a function to optimize. The horsetail matching python module comes with several test problems, which we will use here. We require a function that takes two arguments: the value of the design variables, and the value of the uncertainties. It should return the value quantity of interest.  "
   ]
  },
  {
   "cell_type": "code",
   "execution_count": 2,
   "metadata": {},
   "outputs": [
    {
     "name": "stdout",
     "output_type": "stream",
     "text": [
      "0.1\n"
     ]
    }
   ],
   "source": [
    "my_func = TP1\n",
    "print TP1(x=[0, 1], u=[1, 0])"
   ]
  },
  {
   "cell_type": "markdown",
   "metadata": {
    "collapsed": true
   },
   "source": [
    "Now we must define the input uncertainties to the problem. These are created as horsetail matching parameters, which have the method getSample which allows the horsetail matching object to sample them accordingly. Here we create a uniformly distributed uncertainty and a gaussian uncertainty.\n",
    "\n",
    "Then we create the HorsetailMatching object which will do the evalation of the horsetail matching metric. We can specify the target inverse CDF using the ftarget argument (by default a standard target of t(h) = 0 is used). "
   ]
  },
  {
   "cell_type": "code",
   "execution_count": 3,
   "metadata": {
    "collapsed": true
   },
   "outputs": [],
   "source": [
    "u1 = UncertainParameter('uniform', lower_bound=-1, upper_bound=1)\n",
    "u2 = UncertainParameter('gaussian', mean=0, standard_deviation=1)\n",
    "\n",
    "def my_target(h): return 0\n",
    "\n",
    "theHM = HorsetailMatching(my_func, [u1, u2], ftarget=my_target)"
   ]
  },
  {
   "cell_type": "markdown",
   "metadata": {},
   "source": [
    "Now we use the evalMetric method to evaluate the horsetail matching metric at a design point:"
   ]
  },
  {
   "cell_type": "code",
   "execution_count": 17,
   "metadata": {},
   "outputs": [
    {
     "name": "stdout",
     "output_type": "stream",
     "text": [
      "1.38488611638\n"
     ]
    }
   ],
   "source": [
    "print(theHM.evalMetric(x=[1,1]))"
   ]
  },
  {
   "cell_type": "markdown",
   "metadata": {},
   "source": [
    "We can use the plotHorsetail() method to visualize the behaviour under uncertainty. In this case it is a single PDF. Any arguments we pass to the plotHorsetail method get passed through to the underlying matplotlib.pyplot.plot() function - here we tell it to plot in blue. "
   ]
  },
  {
   "cell_type": "code",
   "execution_count": 16,
   "metadata": {},
   "outputs": [
    {
     "data": {
      "image/png": "[encoded data removed]",
      "text/plain": [
       "<matplotlib.figure.Figure at 0x7f3dc870f390>"
      ]
     },
     "metadata": {},
     "output_type": "display_data"
    }
   ],
   "source": [
    "import matplotlib.pyplot as plt\n",
    "(x1, y1), (x2, y2), _ = theHM.getHorsetail()\n",
    "plt.plot(x1, y1, 'b', label='CDF')\n",
    "plt.plot([theHM.ftarget(y) for y in y1], y1, 'k--', label='Target')\n",
    "plt.xlim([-1, 10])\n",
    "plt.legend(loc='lower right')\n",
    "plt.show()"
   ]
  },
  {
   "cell_type": "markdown",
   "metadata": {
    "collapsed": true
   },
   "source": [
    "Now if we want to use this within an optimization, its a simple as passing theHM.evalMetric to whichever optimizer we like. For example, using the scipy optimize module's minimize function:"
   ]
  },
  {
   "cell_type": "code",
   "execution_count": 18,
   "metadata": {},
   "outputs": [
    {
     "name": "stdout",
     "output_type": "stream",
     "text": [
      "  status: 0\n",
      "    nfev: 107\n",
      " success: True\n",
      "     fun: 0.0\n",
      "       x: array([-2.46257592,  2.46257594])\n",
      " message: 'Optimization terminated successfully.'\n",
      "     nit: 54\n"
     ]
    }
   ],
   "source": [
    "from scipy.optimize import minimize\n",
    "\n",
    "solution = minimize(theHM.evalMetric, x0=[3,2], method='Nelder-Mead')\n",
    "print(solution)"
   ]
  },
  {
   "cell_type": "code",
   "execution_count": 19,
   "metadata": {},
   "outputs": [
    {
     "data": {
      "image/png": "[encoded data removed]",
      "text/plain": [
       "<matplotlib.figure.Figure at 0x7f3dc86c6a50>"
      ]
     },
     "metadata": {},
     "output_type": "display_data"
    }
   ],
   "source": [
    "(x1, y1), (x2, y2), _ = theHM.getHorsetail()\n",
    "plt.plot(x1, y1, 'b', label='CDF')\n",
    "plt.plot([theHM.ftarget(y) for y in y1], y1, 'k--', label='Target')\n",
    "plt.xlim([-1, 10])\n",
    "plt.legend(loc='lower right')\n",
    "plt.show()"
   ]
  },
  {
   "cell_type": "markdown",
   "metadata": {
    "collapsed": true
   },
   "source": [
    "For this simple test problem the minimum is at x=[0, 0] where the CDF is a step function at 0, and so the horsetail matching metric is also 0. "
   ]
  },
  {
   "cell_type": "markdown",
   "metadata": {},
   "source": [
    "This concludes our introduction to horsetail matching. For other tutorials, please visit http://www-edc.eng.cam.ac.uk/aerotools/horsetailmatching/"
   ]
  },
  {
   "cell_type": "code",
   "execution_count": null,
   "metadata": {
    "collapsed": true
   },
   "outputs": [],
   "source": []
  }
 ],
 "metadata": {
  "kernelspec": {
   "display_name": "Python 2",
   "language": "python",
   "name": "python2"
  },
  "language_info": {
   "codemirror_mode": {
    "name": "ipython",
    "version": 2
   },
   "file_extension": ".py",
   "mimetype": "text/x-python",
   "name": "python",
   "nbconvert_exporter": "python",
   "pygments_lexer": "ipython2",
   "version": "2.7.6"
  }
 },
 "nbformat": 4,
 "nbformat_minor": 2
}
