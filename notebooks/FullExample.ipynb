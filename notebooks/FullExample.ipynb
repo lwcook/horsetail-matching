{
 "cells": [
  {
   "cell_type": "markdown",
   "metadata": {},
   "source": [
    "In this notebook, we run an optimization making use of all of the functionality of horsetail matching. "
   ]
  },
  {
   "cell_type": "code",
   "execution_count": 3,
   "metadata": {},
   "outputs": [
    {
     "name": "stdout",
     "output_type": "stream",
     "text": [
      "----------\n",
      "At design: [3. 2.]\n",
      "Evaluating surrogate\n",
      "Getting uncertain parameter samples\n",
      "Evaluating quantity of interest at samples\n",
      "Evaluating metric\n",
      "Metric: 47.1028477119\n",
      "Gradient: [19.449360531556763, 17.01819046511218]\n",
      "----------\n",
      "At design: [-5. -5.]\n",
      "Evaluating surrogate\n",
      "Re-using stored samples\n",
      "Evaluating quantity of interest at samples\n",
      "Evaluating metric\n",
      "Metric: 183.238659147\n",
      "Gradient: [-36.42879862667835, -36.42879862667809]\n",
      "----------\n",
      "At design: [ 0.32538056 -0.34029201]\n",
      "Evaluating surrogate\n",
      "Re-using stored samples\n",
      "Evaluating quantity of interest at samples\n",
      "Evaluating metric\n",
      "Metric: 2.01357667742\n",
      "Gradient: [0.40687264863879025, -0.46549740503368814]\n",
      "----------\n",
      "At design: [-0.09283112  0.11527328]\n",
      "Evaluating surrogate\n",
      "Re-using stored samples\n",
      "Evaluating quantity of interest at samples\n",
      "Evaluating metric\n",
      "Metric: 1.89088526532\n",
      "Gradient: [-0.08422166912737744, 0.16477902182589418]\n",
      "----------\n",
      "At design: [-0.00298171  0.01029465]\n",
      "Evaluating surrogate\n",
      "Re-using stored samples\n",
      "Evaluating quantity of interest at samples\n",
      "Evaluating metric\n",
      "Metric: 1.87753664587\n",
      "Gradient: [0.0052139140776014375, 0.021195974524374914]\n",
      "----------\n",
      "At design: [0.00196162 0.00113933]\n",
      "Evaluating surrogate\n",
      "Re-using stored samples\n",
      "Evaluating quantity of interest at samples\n",
      "Evaluating metric\n",
      "Metric: 1.87744420012\n",
      "Gradient: [0.006094505215659927, 0.005104611098247549]\n",
      "----------\n",
      "At design: [1.11653719e-03 6.10348625e-05]\n",
      "Evaluating surrogate\n",
      "Re-using stored samples\n",
      "Evaluating quantity of interest at samples\n",
      "Evaluating metric\n",
      "Metric: 1.87743690192\n",
      "Gradient: [0.0027617383699801742, 0.0014910834146764462]\n",
      "----------\n",
      "At design: [ 7.49447584e-05 -6.91266227e-05]\n",
      "Evaluating surrogate\n",
      "Re-using stored samples\n",
      "Evaluating quantity of interest at samples\n",
      "Evaluating metric\n",
      "Metric: 1.8774353209\n",
      "Gradient: [9.722558062310101e-05, -7.621327181024565e-05]\n"
     ]
    }
   ],
   "source": [
    "import numpy as np\n",
    "import scipy.optimize as scopt\n",
    "\n",
    "from horsetailmatching import HorsetailMatching, UniformParameter, GaussianParameter, IntervalParameter, UncertainParameter\n",
    "from horsetailmatching.demoproblems import TP2\n",
    "from horsetailmatching.surrogates import PolySurrogate\n",
    "\n",
    "def fQOI(x, u):\n",
    "    factor = np.sqrt(u[0]**2 + u[1]**2 + u[2]**2 + 1)\n",
    "    q = 1 + factor*(x[0]**2 + x[1]*x[0] + x[1]**2)\n",
    "    grad = [factor*(2*x[0] + x[1]), factor*(x[0] + 2*x[1])]\n",
    "    return q, grad\n",
    "\n",
    "def myPDF(q):\n",
    "    if q > 1 or q < -1:\n",
    "        return 0\n",
    "    else:\n",
    "        return 0.5\n",
    "\n",
    "u_1 = UncertainParameter(myPDF, lower_bound=-1, upper_bound=1)\n",
    "u_2 = GaussianParameter(mean=0, standard_deviation=1)\n",
    "u_3 = IntervalParameter(lower_bound=-1, upper_bound=1)\n",
    "             \n",
    "def ftarget_u(h):\n",
    "    return 0 - h**5\n",
    "\n",
    "def ftarget_l(h):\n",
    "    return 1 - h**5\n",
    "             \n",
    "qPolyChaos = PolySurrogate(dimensions=3, order=3, poly_type=['legendre', 'hermite', 'legendre'])\n",
    "gradPolyChaos = [PolySurrogate(dimensions=3, order=3, poly_type=['legendre', 'hermite', 'legendre']),\n",
    "                 PolySurrogate(dimensions=3, order=3, poly_type=['legendre', 'hermite', 'legendre'])]\n",
    "u_quad_points = qPolyChaos.getQuadraturePoints()\n",
    "             \n",
    "def mySurrogateWithGrad(u_quad, q_quad, grad_quad):\n",
    "    qPolyChaos.train(q_quad)\n",
    "    for i, gPC in enumerate(gradPolyChaos):\n",
    "        gPC.train(grad_quad[:, i])\n",
    "    def qmodel(u):\n",
    "        return qPolyChaos.predict(u)\n",
    "    def gradmodel(u):\n",
    "        return [gPC.predict(u) for gPC in gradPolyChaos]\n",
    "    return qmodel, gradmodel\n",
    "\n",
    "theHM = HorsetailMatching(fQOI, [u_1, u_2, u_3], jac=True, method='kernel', ftarget=(ftarget_u, ftarget_l),\n",
    "                          samples_prob=100, samples_int=10, integration_points=np.linspace(-50, 1000, 2000),\n",
    "                          surrogate=mySurrogateWithGrad, surrogate_points=u_quad_points, surrogate_jac=True,\n",
    "                          verbose=True)\n",
    "\n",
    "solution = scopt.minimize(theHM.evalMetric, x0=[3, 2], bounds=[(-5, 5), (-5, 5)], jac=True, method='SLSQP')"
   ]
  },
  {
   "cell_type": "markdown",
   "metadata": {
    "collapsed": true
   },
   "source": [
    "For other tutorials, see: http://www-edc.eng.cam.ac.uk/aerotools/horsetailmatching/"
   ]
  },
  {
   "cell_type": "code",
   "execution_count": null,
   "metadata": {
    "collapsed": true
   },
   "outputs": [],
   "source": []
  }
 ],
 "metadata": {
  "kernelspec": {
   "display_name": "Python 2",
   "language": "python",
   "name": "python2"
  },
  "language_info": {
   "codemirror_mode": {
    "name": "ipython",
    "version": 2
   },
   "file_extension": ".py",
   "mimetype": "text/x-python",
   "name": "python",
   "nbconvert_exporter": "python",
   "pygments_lexer": "ipython2",
   "version": "2.7.6"
  }
 },
 "nbformat": 4,
 "nbformat_minor": 2
}
