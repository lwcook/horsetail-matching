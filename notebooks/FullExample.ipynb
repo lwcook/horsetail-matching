{
 "cells": [
  {
   "cell_type": "markdown",
   "metadata": {},
   "source": [
    "In this notebook, we run an optimization making use of all of the functionality of horsetail matching. "
   ]
  },
  {
   "cell_type": "code",
   "execution_count": 1,
   "metadata": {},
   "outputs": [],
   "source": [
    "import numpy as np\n",
    "import scipy.optimize as scopt\n",
    "\n",
    "from horsetailmatching import HorsetailMatching, UncertainParameter\n",
    "from horsetailmatching.demoproblems import TP2\n",
    "from horsetailmatching.surrogates import PolySurrogate\n",
    "\n",
    "def fQOI(x, u):\n",
    "    factor = np.sqrt(u[0]**2 + u[1]**2)\n",
    "    q = 1 + (1 + factor*(x[0]**2 + x[1]*x[0] + x[1]**2))\n",
    "    grad = [factor*(2*x[0] + x[1]), factor*(x[0] + 2*x[1])]\n",
    "    return q, grad\n",
    "\n",
    "u_1 = UncertainParameter('uniform', lower_bound=-1, upper_bound=1)\n",
    "u_2 = UncertainParameter('gaussian', mean=0, standard_deviation=1)\n",
    "u_3 = UncertainParameter('interval', lower_bound=-1, upper_bound=1)\n",
    "             \n",
    "def ftarget_u(h):\n",
    "    return 0 - h**5\n",
    "\n",
    "def ftarget_l(h):\n",
    "    return 1 - h**5\n",
    "             \n",
    "qPolyChaos = PolySurrogate(dimensions=3, order=3, poly_type=['legendre', 'hermite', 'legendre'])\n",
    "gradPolyChaos = [PolySurrogate(dimensions=3, order=3, poly_type=['legendre', 'hermite', 'legendre']),\n",
    "                 PolySurrogate(dimensions=3, order=3, poly_type=['legendre', 'hermite', 'legendre'])]\n",
    "u_quad_points = qPolyChaos.getQuadraturePoints()\n",
    "             \n",
    "def mySurrogateWithGrad(u_quad, q_quad, grad_quad):\n",
    "    qPolyChaos.train(q_quad)\n",
    "    for i, gPC in enumerate(gradPolyChaos):\n",
    "        gPC.train(grad_quad[:, i])\n",
    "    def qmodel(u):\n",
    "        return qPolyChaos.predict(u)\n",
    "    def gradmodel(u):\n",
    "        return [gPC.predict(u) for gPC in gradPolyChaos]\n",
    "    return qmodel, gradmodel\n",
    "\n",
    "theHM = HorsetailMatching(fQOI, [u_1, u_2], jac=True, method='kernel', ftarget=(ftarget_u, ftarget_l),\n",
    "                          n_samples_prob=1000, n_samples_int=50, q_integration_points=np.linspace(0, 10, 500),\n",
    "                          surrogate=mySurrogateWithGrad, u_surrogate_points=u_quad_points, surrogate_jac=True)\n",
    "\n",
    "solution = scopt.minimize(theHM.evalMetric, x0=[3, 2], jac=True, method='BFGS')"
   ]
  },
  {
   "cell_type": "code",
   "execution_count": null,
   "metadata": {
    "collapsed": true
   },
   "outputs": [],
   "source": []
  }
 ],
 "metadata": {
  "kernelspec": {
   "display_name": "Python 2",
   "language": "python",
   "name": "python2"
  },
  "language_info": {
   "codemirror_mode": {
    "name": "ipython",
    "version": 2
   },
   "file_extension": ".py",
   "mimetype": "text/x-python",
   "name": "python",
   "nbconvert_exporter": "python",
   "pygments_lexer": "ipython2",
   "version": "2.7.6"
  }
 },
 "nbformat": 4,
 "nbformat_minor": 2
}
