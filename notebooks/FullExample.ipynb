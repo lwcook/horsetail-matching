{
 "cells": [
  {
   "cell_type": "markdown",
   "metadata": {},
   "source": [
    "In this notebook, we run an optimization making use of all of the functionality of horsetail matching. "
   ]
  },
  {
   "cell_type": "code",
   "execution_count": 10,
   "metadata": {},
   "outputs": [
    {
     "name": "stdout",
     "output_type": "stream",
     "text": [
      "----------\n",
      "At design: [ 3.  2.]\n",
      "Evaluating surrogate\n",
      "Getting uncertain parameter samples\n",
      "Evaluating quantity of interest at samples\n",
      "Evaluating metric\n",
      "Metric: 46.7284053785\n",
      "Gradient: [19.308071453483986, 16.894562521798495]\n",
      "----------\n",
      "At design: [-5. -5.]\n",
      "Evaluating surrogate\n",
      "Re-using stored samples\n",
      "Evaluating quantity of interest at samples\n",
      "Evaluating metric\n",
      "Metric: 181.812406155\n",
      "Gradient: [-36.16728447272282, -36.167284472723054]\n",
      "----------\n",
      "At design: [ 0.32496831 -0.34065273]\n",
      "Evaluating surrogate\n",
      "Re-using stored samples\n",
      "Evaluating quantity of interest at samples\n",
      "Evaluating metric\n",
      "Metric: 2.09768001058\n",
      "Gradient: [0.39510278533115434, -0.45521218145332726]\n",
      "----------\n",
      "At design: [-0.08231765  0.10382381]\n",
      "Evaluating surrogate\n",
      "Re-using stored samples\n",
      "Evaluating quantity of interest at samples\n",
      "Evaluating metric\n",
      "Metric: 1.97620450949\n",
      "Gradient: [-0.068883014259335906, 0.1419650519535493]\n",
      "----------\n",
      "At design: [-0.00421463  0.01186363]\n",
      "Evaluating surrogate\n",
      "Re-using stored samples\n",
      "Evaluating quantity of interest at samples\n",
      "Evaluating metric\n",
      "Metric: 1.96614724548\n",
      "Gradient: [0.0038708153319547875, 0.021992373964235024]\n",
      "----------\n",
      "At design: [ 0.00201298  0.00130275]\n",
      "Evaluating surrogate\n",
      "Re-using stored samples\n",
      "Evaluating quantity of interest at samples\n",
      "Evaluating metric\n",
      "Metric: 1.9660343866\n",
      "Gradient: [0.0060055399905308048, 0.0052050927773352818]\n",
      "----------\n",
      "At design: [ 0.00127194  0.00016187]\n",
      "Evaluating surrogate\n",
      "Re-using stored samples\n",
      "Evaluating quantity of interest at samples\n",
      "Evaluating metric\n",
      "Metric: 1.96602703652\n",
      "Gradient: [0.0030494063028788879, 0.0017983546628644615]\n",
      "----------\n",
      "At design: [  9.78126732e-05  -8.48653326e-05]\n",
      "Evaluating surrogate\n",
      "Re-using stored samples\n",
      "Evaluating quantity of interest at samples\n",
      "Evaluating metric\n",
      "Metric: 1.96602496118\n",
      "Gradient: [0.00012482771045571969, -8.105233989878232e-05]\n"
     ]
    }
   ],
   "source": [
    "import numpy as np\n",
    "import scipy.optimize as scopt\n",
    "\n",
    "from horsetailmatching import HorsetailMatching, UniformParameter, GaussianParameter, IntervalParameter, UncertainParameter\n",
    "from horsetailmatching.demoproblems import TP2\n",
    "from horsetailmatching.surrogates import PolySurrogate\n",
    "\n",
    "def fQOI(x, u):\n",
    "    factor = np.sqrt(u[0]**2 + u[1]**2 + u[2]**2 + 1)\n",
    "    q = 1 + factor*(x[0]**2 + x[1]*x[0] + x[1]**2)\n",
    "    grad = [factor*(2*x[0] + x[1]), factor*(x[0] + 2*x[1])]\n",
    "    return q, grad\n",
    "\n",
    "def myPDF(q):\n",
    "    if q > 1 or q < -1:\n",
    "        return 0\n",
    "    else:\n",
    "        return 0.5\n",
    "\n",
    "u_1 = UncertainParameter(myPDF, lower_bound=-1, upper_bound=1)\n",
    "u_2 = GaussianParameter(mean=0, standard_deviation=1)\n",
    "u_3 = IntervalParameter(lower_bound=-1, upper_bound=1)\n",
    "             \n",
    "def ftarget_u(h):\n",
    "    return 0 - h**5\n",
    "\n",
    "def ftarget_l(h):\n",
    "    return 1 - h**5\n",
    "             \n",
    "qPolyChaos = PolySurrogate(dimensions=3, order=3, poly_type=['legendre', 'hermite', 'legendre'])\n",
    "gradPolyChaos = [PolySurrogate(dimensions=3, order=3, poly_type=['legendre', 'hermite', 'legendre']),\n",
    "                 PolySurrogate(dimensions=3, order=3, poly_type=['legendre', 'hermite', 'legendre'])]\n",
    "u_quad_points = qPolyChaos.getQuadraturePoints()\n",
    "             \n",
    "def mySurrogateWithGrad(u_quad, q_quad, grad_quad):\n",
    "    qPolyChaos.train(q_quad)\n",
    "    for i, gPC in enumerate(gradPolyChaos):\n",
    "        gPC.train(grad_quad[:, i])\n",
    "    def qmodel(u):\n",
    "        return qPolyChaos.predict(u)\n",
    "    def gradmodel(u):\n",
    "        return [gPC.predict(u) for gPC in gradPolyChaos]\n",
    "    return qmodel, gradmodel\n",
    "\n",
    "theHM = HorsetailMatching(fQOI, [u_1, u_2, u_3], jac=True, method='kernel', ftarget=(ftarget_u, ftarget_l),\n",
    "                          samples_prob=100, samples_int=10, integration_points=np.linspace(-10, 500, 2000),\n",
    "                          surrogate=mySurrogateWithGrad, surrogate_points=u_quad_points, surrogate_jac=True,\n",
    "                          verbose=True)\n",
    "\n",
    "solution = scopt.minimize(theHM.evalMetric, x0=[3, 2], bounds=[(-5, 5), (-5, 5)], jac=True, method='SLSQP')"
   ]
  },
  {
   "cell_type": "markdown",
   "metadata": {
    "collapsed": true
   },
   "source": [
    "For other tutorials, see: http://www-edc.eng.cam.ac.uk/aerotools/horsetailmatching/"
   ]
  },
  {
   "cell_type": "code",
   "execution_count": null,
   "metadata": {
    "collapsed": true
   },
   "outputs": [],
   "source": []
  }
 ],
 "metadata": {
  "kernelspec": {
   "display_name": "Python 2",
   "language": "python",
   "name": "python2"
  },
  "language_info": {
   "codemirror_mode": {
    "name": "ipython",
    "version": 2
   },
   "file_extension": ".py",
   "mimetype": "text/x-python",
   "name": "python",
   "nbconvert_exporter": "python",
   "pygments_lexer": "ipython2",
   "version": "2.7.6"
  }
 },
 "nbformat": 4,
 "nbformat_minor": 2
}
