{
 "cells": [
  {
   "cell_type": "markdown",
   "metadata": {},
   "source": [
    "In this notebook, we run an optimization making use of all of the functionality of horsetail matching. "
   ]
  },
  {
   "cell_type": "code",
   "execution_count": 1,
   "metadata": {},
   "outputs": [
    {
     "name": "stdout",
     "output_type": "stream",
     "text": [
      "----------\n",
      "At design: [3 2]\n",
      "Evaluating surrogate\n",
      "Getting uncertain parameter samples\n",
      "Evaluating quantity of interest at samples\n",
      "Evaluating metric\n",
      "Metric: 30.4549780761\n",
      "Gradient: [11.730053580475126, 10.263796882915738]\n",
      "----------\n",
      "At design: [3 2]\n",
      "Evaluating surrogate\n",
      "Re-using stored samples\n",
      "Evaluating quantity of interest at samples\n",
      "Evaluating metric\n",
      "Metric: 30.4549780761\n",
      "Gradient: [11.730053580475126, 10.263796882915738]\n",
      "----------\n",
      "At design: [-8.73005358 -8.26379688]\n",
      "Evaluating surrogate\n",
      "Re-using stored samples\n",
      "Evaluating quantity of interest at samples\n",
      "Evaluating metric\n",
      "Metric: 69.936329618\n",
      "Gradient: [0.0, 0.0]\n",
      "----------\n",
      "At design: [ 0.0491101  -0.58202866]\n",
      "Evaluating surrogate\n",
      "Re-using stored samples\n",
      "Evaluating quantity of interest at samples\n",
      "Evaluating metric\n",
      "Metric: 3.00815734701\n",
      "Gradient: [-0.70646362908487859, -1.6280609448506482]\n",
      "----------\n",
      "At design: [-0.15231026  0.15741545]\n",
      "Evaluating surrogate\n",
      "Re-using stored samples\n",
      "Evaluating quantity of interest at samples\n",
      "Evaluating metric\n",
      "Metric: 2.60179086081\n",
      "Gradient: [-0.19857853065015227, 0.21923909335760666]\n",
      "----------\n",
      "At design: [ 0.01384937  0.00232271]\n",
      "Evaluating surrogate\n",
      "Re-using stored samples\n",
      "Evaluating quantity of interest at samples\n",
      "Evaluating metric\n",
      "Metric: 2.56985126483\n",
      "Gradient: [0.040169690620469628, 0.024746639345912185]\n",
      "----------\n",
      "At design: [  7.54424640e-05  -9.99771687e-07]\n",
      "Evaluating surrogate\n",
      "Re-using stored samples\n",
      "Evaluating quantity of interest at samples\n",
      "Evaluating metric\n",
      "Metric: 2.56954438173\n",
      "Gradient: [0.00020053517290222732, 9.8261156398826019e-05]\n",
      "----------\n",
      "At design: [  6.57363416e-08  -9.68196956e-08]\n",
      "Evaluating surrogate\n",
      "Re-using stored samples\n",
      "Evaluating quantity of interest at samples\n",
      "Evaluating metric\n",
      "Metric: 2.56954437421\n",
      "Gradient: [4.6363115651351465e-08, -1.7112475135126445e-07]\n"
     ]
    }
   ],
   "source": [
    "import numpy as np\n",
    "import scipy.optimize as scopt\n",
    "\n",
    "from horsetailmatching import HorsetailMatching, UniformParameter, GaussianParameter, IntervalParameter, UncertainParameter\n",
    "from horsetailmatching.demoproblems import TP2\n",
    "from horsetailmatching.surrogates import PolySurrogate\n",
    "\n",
    "def fQOI(x, u):\n",
    "    factor = np.sqrt(u[0]**2 + u[1]**2)\n",
    "    q = 1 + (1 + factor*(x[0]**2 + x[1]*x[0] + x[1]**2))\n",
    "    grad = [factor*(2*x[0] + x[1]), factor*(x[0] + 2*x[1])]\n",
    "    return q, grad\n",
    "\n",
    "def myPDF(q):\n",
    "    if q > 1 or q < -1:\n",
    "        return 0\n",
    "    else:\n",
    "        return 0.5\n",
    "\n",
    "u_1 = UncertainParameter(myPDF, lower_bound=-1, upper_bound=1)\n",
    "u_2 = GaussianParameter(mean=0, standard_deviation=1)\n",
    "u_3 = IntervalParameter(lower_bound=-1, upper_bound=1)\n",
    "             \n",
    "def ftarget_u(h):\n",
    "    return 0 - h**5\n",
    "\n",
    "def ftarget_l(h):\n",
    "    return 1 - h**5\n",
    "             \n",
    "qPolyChaos = PolySurrogate(dimensions=3, order=3, poly_type=['legendre', 'hermite', 'legendre'])\n",
    "gradPolyChaos = [PolySurrogate(dimensions=3, order=3, poly_type=['legendre', 'hermite', 'legendre']),\n",
    "                 PolySurrogate(dimensions=3, order=3, poly_type=['legendre', 'hermite', 'legendre'])]\n",
    "u_quad_points = qPolyChaos.getQuadraturePoints()\n",
    "             \n",
    "def mySurrogateWithGrad(u_quad, q_quad, grad_quad):\n",
    "    qPolyChaos.train(q_quad)\n",
    "    for i, gPC in enumerate(gradPolyChaos):\n",
    "        gPC.train(grad_quad[:, i])\n",
    "    def qmodel(u):\n",
    "        return qPolyChaos.predict(u)\n",
    "    def gradmodel(u):\n",
    "        return [gPC.predict(u) for gPC in gradPolyChaos]\n",
    "    return qmodel, gradmodel\n",
    "\n",
    "theHM = HorsetailMatching(fQOI, [u_1, u_2], jac=True, method='kernel', ftarget=(ftarget_u, ftarget_l),\n",
    "                          samples_prob=1000, samples_int=50, integration_points=np.linspace(0, 50, 500),\n",
    "                          surrogate=mySurrogateWithGrad, surrogate_points=u_quad_points, surrogate_jac=True,\n",
    "                          verbose=True)\n",
    "\n",
    "solution = scopt.minimize(theHM.evalMetric, x0=[3, 2], jac=True, method='BFGS')"
   ]
  },
  {
   "cell_type": "markdown",
   "metadata": {
    "collapsed": true
   },
   "source": [
    "For other tutorials, see: http://www-edc.eng.cam.ac.uk/aerotools/horsetailmatching/"
   ]
  },
  {
   "cell_type": "code",
   "execution_count": null,
   "metadata": {
    "collapsed": true
   },
   "outputs": [],
   "source": []
  }
 ],
 "metadata": {
  "kernelspec": {
   "display_name": "Python 2",
   "language": "python",
   "name": "python2"
  },
  "language_info": {
   "codemirror_mode": {
    "name": "ipython",
    "version": 2
   },
   "file_extension": ".py",
   "mimetype": "text/x-python",
   "name": "python",
   "nbconvert_exporter": "python",
   "pygments_lexer": "ipython2",
   "version": "2.7.6"
  }
 },
 "nbformat": 4,
 "nbformat_minor": 2
}
