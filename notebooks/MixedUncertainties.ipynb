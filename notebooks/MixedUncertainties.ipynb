{
 "cells": [
  {
   "cell_type": "markdown",
   "metadata": {},
   "source": [
    "In this notebook we show the capability for horsetail matching to deal with mixed uncertainties. Mixed uncertainties refers to when some of the uncertain parameters cannot be assigned probability distributions (for example they are due to a lack of knowledge, and so we have no data on which to base a distribution) and are instead represented with an interval.\n",
    "\n",
    "\n",
    "As before we start by importing the modules we need and creating uncertain parameters. \n",
    "Horsetail matching allows uncertainties to be defined in two ways...\n",
    "\n",
    "The simplest is using the built in UncertainParameter class and child classes.\n",
    "\n",
    "If more flexibility is required, then a parameter can also be described by a function that returns a set of samples of this uncertain parameter.\n",
    "\n",
    "These alternatives are illustrated below:\n"
   ]
  },
  {
   "cell_type": "code",
   "execution_count": 18,
   "metadata": {
    "collapsed": true
   },
   "outputs": [],
   "source": [
    "import matplotlib.pyplot as plt\n",
    "import numpy as np\n",
    "\n",
    "from horsetailmatching import UniformParameter, IntervalParameter, HorsetailMatching\n",
    "\n",
    "u_prob = UniformParameter(lower_bound=-1, upper_bound=1)\n",
    "\n",
    "n_samples = 500\n",
    "def u_prob_alternative():\n",
    "    return np.random.uniform(-1, 1, n_samples)\n",
    "\n",
    "u_int = IntervalParameter(lower_bound=-1, upper_bound=1)"
   ]
  },
  {
   "cell_type": "markdown",
   "metadata": {},
   "source": [
    "Then we can setup the horsetail matching object, using TP2 from the demo problems as our quantity of interest. Recall this is a fuction that takes two inputs: values of the design variables, x, and values of the uncertain parameters, u, and returns the quantity of interest, q. \n",
    "\n",
    "Interval uncertainties are given as the third argument to a horsetail matching object, or through the int_uncertainties keyword. So the following two objects are equivalent:"
   ]
  },
  {
   "cell_type": "code",
   "execution_count": 25,
   "metadata": {
    "collapsed": true
   },
   "outputs": [],
   "source": [
    "from horsetailmatching.demoproblems import TP2\n",
    "\n",
    "def my_target(h): \n",
    "    return 1\n",
    "\n",
    "theHM = HorsetailMatching(TP2, u_prob, u_int, \n",
    "                          ftarget=(my_target, my_target), samples_prob=n_samples, samples_int=50)\n",
    "\n",
    "theHM = HorsetailMatching(TP2, prob_uncertainties=[u_prob_alternative], int_uncertainties=[u_int], \n",
    "                          ftarget=(my_target, my_target), samples_prob=n_samples, samples_int=50)"
   ]
  },
  {
   "cell_type": "markdown",
   "metadata": {},
   "source": [
    "Note that under mixed uncertainties we can set separate targets for the upper and lower bounds on the CDF (the two horsetail curves) by passing a tuple of (target_for_upper_bound, target_for_lower_bound) to the ftarget argument.\n",
    "\n",
    "Note also that here we also specified the number of samples to take from the probabilistic uncertainties and how many to take from the interval uncertainties using the arguments samples_prob and samples_int. A nested structure is used to evaluate the metric under mixed uncertainties and so the total number of samples taken will be (samples_prob) x (samples_int).\n",
    "\n",
    "If specifying uncertainties using a sampling function, the number of samples returned by this function needs to be the same as the number specified in the samples_prob attribute."
   ]
  },
  {
   "cell_type": "markdown",
   "metadata": {},
   "source": [
    "We can use the getHorsetail() method to visualize the horsetail plot, whch can then be plotted using matplotlib.\n",
    "\n",
    "This time because we are dealing with mixed uncertainties we can get a CDF at each value of the sampled interval uncertainties (the third returned argument from getHorsetail() gives a list of these CDFs) of which the envelope gives the upper and lower bounds - the horsetail plot - which is highlighed in blue here. "
   ]
  },
  {
   "cell_type": "code",
   "execution_count": null,
   "metadata": {},
   "outputs": [
    {
     "name": "stdout",
     "output_type": "stream",
     "text": [
      "13.684866568596657\n"
     ]
    },
    {
     "data": {
      "image/png": "[encoded data removed]",
      "text/plain": [
       "<matplotlib.figure.Figure at 0x7faaf061ddd0>"
      ]
     },
     "metadata": {},
     "output_type": "display_data"
    }
   ],
   "source": [
    "print(theHM.evalMetric([2, 3]))\n",
    "\n",
    "upper, lower, CDFs = theHM.getHorsetail()\n",
    "(q1, h1, t1) = upper\n",
    "(q2, h2, t2) = lower\n",
    "\n",
    "for CDF in CDFs:\n",
    "    plt.plot(CDF[0], CDF[1], c='grey', lw=0.5)\n",
    "plt.plot(q1, h1, 'b')\n",
    "plt.plot(q2, h2, 'b')\n",
    "plt.plot(t1, h1, 'k--')\n",
    "plt.plot(t2, h2, 'k--')\n",
    "plt.xlim([0, 15])\n",
    "plt.ylim([0, 1])\n",
    "plt.xlabel('Quantity of Interest')\n",
    "plt.show()"
   ]
  },
  {
   "cell_type": "markdown",
   "metadata": {},
   "source": [
    "Since this problem is highly non-linear, we obtain an interestingly shaped horsetail plot with CDFs that cross. Note that the target is plotted in dashed lines. Now to optimize the horsetail matching metric, we simply use the evalMetric method in an optimizer as before:"
   ]
  },
  {
   "cell_type": "code",
   "execution_count": null,
   "metadata": {},
   "outputs": [],
   "source": [
    "from scipy.optimize import minimize\n",
    "\n",
    "solution = minimize(theHM.evalMetric, x0=[1,1], method='Nelder-Mead')\n",
    "print(solution)"
   ]
  },
  {
   "cell_type": "markdown",
   "metadata": {
    "collapsed": true
   },
   "source": [
    "Now we can inspect the horsetail plot of the optimum design by using the getHorsetail method again:"
   ]
  },
  {
   "cell_type": "code",
   "execution_count": null,
   "metadata": {},
   "outputs": [],
   "source": [
    "upper, lower, CDFs = theHM.getHorsetail()\n",
    "\n",
    "for CDF in CDFs:\n",
    "    plt.plot(CDF[0], CDF[1], c='grey', lw=0.5)\n",
    "plt.plot(upper[0], upper[1], 'r')\n",
    "plt.plot(lower[0], lower[1], 'r')\n",
    "plt.plot([theHM.ftarget[0](y) for y in upper[1]], upper[1], 'k--')\n",
    "plt.plot([theHM.ftarget[1](y) for y in lower[1]], lower[1], 'k--')\n",
    "plt.xlim([0, 15])\n",
    "plt.ylim([0, 1])\n",
    "plt.xlabel('Quantity of Interest')\n",
    "plt.show()"
   ]
  },
  {
   "cell_type": "markdown",
   "metadata": {},
   "source": [
    "You may have noticed that the optimization required a large number of evaluations to converge, and so takes some time to run. In the next notebook we will show how to utilize gradients to speed up the optimization: http://nbviewer.jupyter.org/github/lwcook/horsetail-matching/blob/master/notebooks/Gradients.ipynb"
   ]
  },
  {
   "cell_type": "markdown",
   "metadata": {},
   "source": [
    "For other tutorials, please visit http://www-edc.eng.cam.ac.uk/aerotools/horsetailmatching/"
   ]
  },
  {
   "cell_type": "code",
   "execution_count": null,
   "metadata": {
    "collapsed": true
   },
   "outputs": [],
   "source": []
  }
 ],
 "metadata": {
  "kernelspec": {
   "display_name": "Python 2",
   "language": "python",
   "name": "python2"
  },
  "language_info": {
   "codemirror_mode": {
    "name": "ipython",
    "version": 2
   },
   "file_extension": ".py",
   "mimetype": "text/x-python",
   "name": "python",
   "nbconvert_exporter": "python",
   "pygments_lexer": "ipython2",
   "version": "2.7.6"
  }
 },
 "nbformat": 4,
 "nbformat_minor": 2
}
